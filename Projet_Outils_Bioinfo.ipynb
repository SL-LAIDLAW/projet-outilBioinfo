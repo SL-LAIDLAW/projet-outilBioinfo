{
 "cells": [
  {
   "cell_type": "markdown",
   "metadata": {
    "colab_type": "text",
    "id": "view-in-github"
   },
   "source": [
    "<a href=\"https://colab.research.google.com/github/SL-LAIDLAW/projet-outilBioinfo/blob/dev/Projet_Outils_Bioinfo.ipynb\" target=\"_parent\"><img src=\"https://colab.research.google.com/assets/colab-badge.svg\" alt=\"Open In Colab\"/></a>"
   ]
  },
  {
   "cell_type": "markdown",
   "metadata": {
    "colab_type": "text",
    "id": "I9tXaxrcF3xh"
   },
   "source": [
    "# Projet de HMSN204\n",
    "_Sean LAIDLAW_, _Mathieu Blaison_"
   ]
  },
  {
   "cell_type": "markdown",
   "metadata": {
    "colab_type": "text",
    "id": "klJRV24iHyS1"
   },
   "source": [
    "## Traitements Biopython de SEX1"
   ]
  },
  {
   "cell_type": "markdown",
   "metadata": {
    "colab_type": "text",
    "id": "pM35FjxJJbEg"
   },
   "source": [
    "### Obtention des sequences sauvages et mutés, du NCBI"
   ]
  },
  {
   "cell_type": "markdown",
   "metadata": {
    "colab_type": "text",
    "id": "DyW-01BAyTDS"
   },
   "source": [
    "#### Obtention du sequence sauvage"
   ]
  },
  {
   "cell_type": "code",
   "execution_count": 1,
   "metadata": {
    "colab": {
     "base_uri": "https://localhost:8080/",
     "height": 136
    },
    "colab_type": "code",
    "id": "kjnQ9cvMDwHg",
    "outputId": "0c87fbcc-da20-42c1-e0d0-fb3f7f12d0f3"
   },
   "outputs": [
    {
     "name": "stdout",
     "output_type": "stream",
     "text": [
      "/usr/local/lib/python2.7/site-packages/pip/_vendor/requests/__init__.py:83: RequestsDependencyWarning: Old version of cryptography ([1, 3]) may cause slowdown.\n",
      "  warnings.warn(warning, RequestsDependencyWarning)\n",
      "\u001b[33mDEPRECATION: Python 2.7 will reach the end of its life on January 1st, 2020. Please upgrade your Python as Python 2.7 won't be maintained after that date. A future version of pip will drop support for Python 2.7.\u001b[0m\n",
      "Collecting biopython\n",
      "\u001b[?25l  Downloading https://files.pythonhosted.org/packages/a0/fd/6ccbfe72c6ba14c1dec3b93e0441228b650c82d74f0270e4b785600d66d4/biopython-1.73-cp27-cp27m-macosx_10_6_intel.macosx_10_9_intel.macosx_10_9_x86_64.macosx_10_10_intel.macosx_10_10_x86_64.whl (2.3MB)\n",
      "\u001b[K    100% |████████████████████████████████| 2.3MB 1.3MB/s ta 0:00:011\n",
      "\u001b[?25hRequirement already satisfied: numpy in /usr/local/lib/python2.7/site-packages (from biopython) (1.13.1)\n",
      "Installing collected packages: biopython\n",
      "Successfully installed biopython-1.73\n",
      "/usr/local/lib/python2.7/site-packages/pip/_vendor/requests/__init__.py:83: RequestsDependencyWarning: Old version of cryptography ([1, 3]) may cause slowdown.\n",
      "  warnings.warn(warning, RequestsDependencyWarning)\n",
      "\u001b[33mDEPRECATION: Python 2.7 will reach the end of its life on January 1st, 2020. Please upgrade your Python as Python 2.7 won't be maintained after that date. A future version of pip will drop support for Python 2.7.\u001b[0m\n",
      "Requirement already satisfied: pandas in /usr/local/lib/python2.7/site-packages (0.20.3)\n",
      "Requirement already satisfied: numpy>=1.7.0 in /usr/local/lib/python2.7/site-packages (from pandas) (1.13.1)\n",
      "Requirement already satisfied: python-dateutil in /usr/local/Cellar/ipython/7.4.0/libexec/vendor/lib/python3.7/site-packages (from pandas) (2.8.0)\n",
      "Requirement already satisfied: pytz>=2011k in /usr/local/lib/python2.7/site-packages (from pandas) (2017.2)\n",
      "Requirement already satisfied: six>=1.5 in /usr/local/Cellar/ipython/7.4.0/libexec/vendor/lib/python3.7/site-packages (from python-dateutil->pandas) (1.12.0)\n"
     ]
    }
   ],
   "source": [
    "!pip install biopython\n",
    "!pip install pandas\n",
    "from Bio import SeqIO \n",
    "from Bio import Entrez"
   ]
  },
  {
   "cell_type": "markdown",
   "metadata": {
    "colab_type": "text",
    "id": "acLms62_0yOM"
   },
   "source": [
    "À partir de TAIR, on a obtenu l'identifiant correspondant au *full length cDNA* de la sequence genomique de SEX1. Un requete envers la base de donnée nucleotide du NCBI nous a fourni le fasta de cette sequence."
   ]
  },
  {
   "cell_type": "code",
   "execution_count": 2,
   "metadata": {
    "colab": {
     "base_uri": "https://localhost:8080/",
     "height": 54
    },
    "colab_type": "code",
    "id": "IYn0Q2Roycdi",
    "outputId": "379da3bf-b242-486a-f532-4b008c8e31cf"
   },
   "outputs": [
    {
     "name": "stdout",
     "output_type": "stream",
     "text": [
      "TATCTTCTGCAATTCGTGGTTTGTGAACACAAGAGAAAAAAAAAAAAAAACATAAAAAAGAAAGAAAAATTAAAAAAAGCTAAAATCAACGGTGAGAAGATTCTGTATATAATAAGAAAATATCACCCAAATAAAAAAAAAAGGTGGAGTCCACAGATACCGTCCATCAACGTATCACTGGGCTCTCTTTCTCCGTGCCGTTCCTCCTACGTGCTCGAATAACGATGTGCCACGTGGTGGAATCGAAGGATAAAGTGTCGTTTTTTACTTCGATTACACGTGAGTGTATGTATGTGTGAGTGAGTGAAGAAGAACAAAGAGCGAAGAAACCCCCCAGCACTCACTTCATCCATAAGATCATTCAAATTCTGGGATCTTCTCTCTTTCTCTCATTGTATTCAGTTTCTTCGTCTCGGTTCGATCATCAGATCCGGCAAGTTTGATTCAGTGACAAGAAAGCATGAGTAACTCTGTAGTGCATAACTTACTTAACCGGGGTTTGATTCGTCCTCTTAACTTTGAACATCAAAACAAGCTCAACTCCTCTGTGTACCAAACTTCAACAGCAAATCCGGCTCTTGGCAAGATTGGCAGATCAAAACTTTACGGGAAAGGTCTTAAGCAGGCAGGACGCAGTCTGGTCACTGAAACAGGAGGAAGACCTCTCTCATTTGTTCCACGAGCTGTCCTTGCCATGGATCCTCAGGCAGCCGAGAAATTTAGTCTTGACGGAAATATCGATTTACTGGTTGAAGTCACTTCTACAACTGTAAGAGAAGTAAATATCCAGATAGCTTATACAAGTGACACATTGTTCCTACACTGGGGTGCAATTCTTGACAACAAAGAAAATTGGGTTCTACCTTCTCGCTCTCCGGATAGAACTCAAAACTTCAAGAACAGTGCGCTTAGAACTCCATTTGTGAAATCCGGTGGCAATTCTCACCTTAAACTAGAGATAGATGATCCTGCCATACACGCTATTGAGTTCCTTATATTTGACGAAAGTCGGAACAAATGGTATAAAAATAATGGTCAGAATTTTCATATAAACTTACCAACGGAAAGGAATGTGAAACAAAATGTTTCTGTTCCTGAAGATCTTGTACAGATCCAAGCATATCTTAGATGGGAACGTAAGGGTAAACAAATGTACAACCCTGAGAAAGAGAAGGAGGAGTATGAAGCCGCCCGGACGGAGCTACGGGAGGAAATGATGCGAGGTGCTTCAGTGGAAGATCTCAGAGCAAAGCTGTTGAAGAAAGATAACAGTAATGAATCCCCAAAATCTAATGGGACATCATCCAGTGGACGGGAGGAAAAGAAAAAAGTTTCCAAGCAACCAGAGCGTAAAAAAAATTATAACACTGACAAGATCCAGCGCAAGGGAAGGGACCTGACTAAGCTTATCTATAAGCATGTTGCTGATTTTGTTGAACCAGAATCCAAATCCTCATCTGAACCACGGTCCTTAACAACTCTGGAGATATACGCCAAAGCAAAGGAGGAACAAGAAACCACTCCAGTCTTTAGCAAGAAAACATTCAAGCTTGAAGGCAGTGCGATTTTGGTGTTTGTTACTAAACTTTCCGGAAAGACGAAAATTCATGTGGCAACTGATTTTAAAGAGCCGGTTACCCTTCACTGGGCTTTGTCTCAAAAGGGTGGAGAATGGTTGGACCCACCTTCAGATATACTGCCACCAAACTCTTTGCCAGTACGTGGTGCTGTTGATACAAAACTGACCATCACTTCAACAGATCTTCCTAGTCCGGTTCAAACTTTTGAGCTGGAAATAGAAGGTGACAGCTACAAGGGCATGCCGTTTGTACTCAATGCTGGTGAAAGGTGGATTAAAAATAATGACAGTGACTTTTATGTGGACTTTGCTAAAGAAGAAAAACATGTTCAGAAGGATTATGGCGATGGAAAGGGTACAGCCAAGCATTTACTGGACAAAATCGCAGATTTGGAGAGTGAGGCCCAGAAGTCTTTCATGCATCGATTCAACATTGCAGCAGATCTTGTGGACGAGGCAAAAAGTGCTGGTCAACTGGGCTTTGCAGGGATCCTAGTCTGGATGAGGTTTATGGCTACAAGACAGCTTGTGTGGAACAAAAACTATAATGTTAAGCCAAGGGAGATAAGCAAAGCGCAGGATAGACTGACTGACCTTCTCCAGGACGTTTATGCAAGTTATCCAGAGTACAGAGAACTTTTGCGGATGATAATGTCTACTGTAGGTCGAGGAGGTGAAGGAGATGTCGGGCAACGAATCCGTGACGAAATTCTAGTCATCCAGCGGAAAAATGACTGCAAGGGTGGAATTATGGAGGAATGGCATCAGAAGTTGCATAACAACACTAGTCCAGATGATGTTGTCATCTGTCAGGCATTGATGGATTATATCAAAAGTGACTTTGACTTAAGTGTTTACTGGAAGACCTTGAACGATAATGGCATAACCAAAGAGCGACTCTTAAGTTATGATCGTGCTATACATTCTGAACCAAATTTTAGAGGAGAACAAAAAGACGGTCTTTTGCGTGATCTTGGACACTACATGAGGACTTTAAAGGCTGTTCATTCAGGGGCAGACCTTGAGTCGGCTATACAAAATTGCATGGGCTACCAAGATGACGGTGAAGGTTTCATGGTTGGGGTGCAGATAAATCCTGTATCAGGATTGCCTTCTGGATATCCAGACTTGCTTCGTTTCGTCCTAGAACATGTTGAAGAAAAGAATGTAGAGCCACTTCTTGAGGGTTTGCTTGAAGCTCGTCAAGAGCTAAGGCCACTTCTGCTGAAGTCCCATGACCGCCTCAAGGATCTGTTATTCTTGGACCTCGCTCTTGATTCTACTGTCAGAACAGCGATTGAAAGAGGATATGAGCAATTGAATGATGCTGGACCTGAGAAAATCATGTACTTCATCAGCCTAGTTCTTGAAAATCTTGCCCTCTCTTCAGATGACAATGAAGACCTTATATACTGCTTGAAGGGATGGCAATTTGCCCTCGACATGTGCAAGAGCAAAAAAGATCACTGGGCTCTGTATGCAAAATCTGTTCTTGACAGAAGCCGACTAGCACTGGCAAGCAAAGCTGAGAGGTACCTTGAAATTCTGCAACCATCGGCTGAATATCTTGGATCTTGTCTTGGAGTCGATCAGTCGGCTGTTAGTATATTTACTGAAGAGATCATTCGAGCTGGATCTGCAGCAGCATTGTCGTCACTTGTTAACCGACTTGACCCAGTTCTTAGGAAGACTGCTAACTTGGGAAGTTGGCAGGTTATTAGTCCTGTAGAGGTCGTCGGATATGTCATTGTTGTGGACGAATTGCTCACTGTACAGAATAAAACCTACGATAGACCTACAATTATAGTTGCAAACAGAGTGAGAGGAGAGGAGGAAATCCCTGATGGTGCAGTTGCGGTACTGACACCTGACATGCCGGATGTACTATCTCATGTTTCTGTTCGAGCAAGAAATGGAAAGATCTGCTTTGCCACATGTTTTGATTCTGGTATCTTATCTGACCTCCAAGGAAAAGATGGAAAACTGTTGAGCCTACAACCAACCTCTGCAGATGTAGTCTATAAAGAGGTAAACGATAGTGAGCTTTCGAGTCCAAGTTCAGACAACCTGGAAGATGCCCCTCCAAGTATTTCTTTGGTCAAGAAACAGTTTGCGGGTAGATATGCTATATCATCTGAGGAGTTCACAAGTGACTTGGTTGGTGCTAAATCAAGAAATATCGGGTATCTGAAAGGAAAAGTTCCTTCTTGGGTTGGTATCCCAACTTCAGTTGCGTTGCCATTTGGTGTTTTTGAGAAGGTTATCTCCGAAAAGGCGAATCAGGCGGTGAACGATAAATTGCTAGTATTGAAGAAAACTCTTGATGAGGGAGACCAAGGTGCTCTGAAGGAAATCCGGCAGACACTGTTGGGGCTAGTTGCACCCCCAGAACTGGTTGAAGAACTGAAAAGTACTATGAAAAGTTCTGACATGCCATGGCCGGGTGATGAAGGTGAACAGAGATGGGAGCAAGCTTGGGCAGCCATTAAAAAGGTCTGGGCTTCGAAATGGAACGAGAGAGCATACTTCAGCACGAGGAAAGTAAAACTGGATCATGACTATCTCTGCATGGCTGTTTTGGTCCAAGAAGTCATCAATGCGGATTACGCATTCGTCATTCACACAACTAATCCATCTTCTGGAGATTCATCAGAGATTTATGCCGAGGTGGTCAAAGGCCTTGGGGAAACTCTTGTAGGAGCATATCCCGGTCGGTCTCTGAGTTTCATCTGCAAGAAAAACAACCTTGATTCGCCTCTGGTGTTGGGCTACCCAAGCAAACCGATTGGGCTGTTCATAAGACGTTCAATCATCTTCAGATCTGATTCCAATGGAGAAGATCTTGAAGGTTATGCAGGTGCAGGCCTCTACGACAGTGTACCAATGGACGAGGAAGACCAAGTCGTGCTCGATTACACAACAGATCCTCTGATCACTGACTTGAGCTTCCAGAAAAAGGTTCTCTCAGACATTGCACGCGCTGGAGATGCCATTGAGAAACTCTATGGAACTGCACAGGACATTGAAGGTGTGATCAGAGACGGGAAGCTCTATGTCGTCCAGACACGACCACAAGTGTGATCAAATTCTCTGACCACTTCTTAATGTGTACGTTACGTTTTCTGTCCAGTAAACTCCTTATTTGCTCTATAAGCAAAGAGTATAATACAGCATAAGCATATAGTGGATTACAAAATGTGTAGTACAAAGACATTTGGCATTACCATTAAGATATAAATAAAAAAACTGTTTATTGGAGTTGGAAGTTTCTCCAGCTTTTGCTTCTTGAAGTTGAGTGCAACTGAAAACTGCTTGTCGTTTCACTGGTCGAGCGATATGACTACTTAGTGTTTGGCTTTTGTGAATTAGTGACTCAACTGTATTCCCAATTCAAATTAGGGTCTAAATTGTAATAAAATATAGATAATGTTTCCTTTTTTCCTGAATAATTTTCTTTTAAG\n"
     ]
    }
   ],
   "source": [
    "Entrez.email = \"sean.laidlaw@etu.umontpellier.fr\"\n",
    "seqgb  = Entrez.efetch (db=\"nucleotide\",id='NM_001331926.1', rettype='fasta')\n",
    "seqselect = SeqIO.parse(seqgb, \"fasta\")\n",
    "\n",
    "sex1_sauvage = []\n",
    "for sequence in seqselect:\n",
    "    sex1_sauvage = sequence.seq\n",
    "sex1_sauvage\n",
    "print(sex1_sauvage)"
   ]
  },
  {
   "cell_type": "markdown",
   "metadata": {
    "colab_type": "text",
    "id": "M4wyFCjVyZui"
   },
   "source": [
    "#### Obtention de la sequence muté"
   ]
  },
  {
   "cell_type": "code",
   "execution_count": 3,
   "metadata": {
    "colab": {
     "base_uri": "https://localhost:8080/",
     "height": 54
    },
    "colab_type": "code",
    "id": "8dOvKpryJdUf",
    "outputId": "0bcb2148-0f37-40da-fc53-09d3b16cd462",
    "scrolled": true
   },
   "outputs": [
    {
     "data": {
      "text/plain": [
       "DictElement({'Count': '5', 'RetMax': '5', 'RetStart': '0', 'IdList': ['1063682343', '1063682341', '334182442', '240254421', '332189094'], 'TranslationSet': [DictElement({'From': 'Arabidopsis thaliana[Organism]', 'To': '\"Arabidopsis thaliana\"[Organism]'}, attributes={})], 'TranslationStack': [DictElement({'Term': 'SEX1[Gene]', 'Field': 'Gene', 'Count': '8', 'Explode': 'N'}, attributes={}), DictElement({'Term': '\"Arabidopsis thaliana\"[Organism]', 'Field': 'Organism', 'Count': '2696552', 'Explode': 'Y'}, attributes={}), 'AND'], 'QueryTranslation': 'SEX1[Gene] AND \"Arabidopsis thaliana\"[Organism]'}, attributes={})"
      ]
     },
     "execution_count": 3,
     "metadata": {},
     "output_type": "execute_result"
    }
   ],
   "source": [
    "search_string = \"SEX1[Gene] AND Arabidopsis thaliana[Organism]\"\n",
    "req = Entrez.esearch(db= \"nucleotide\", term=search_string)  # ID of fasta of SEX1 gene\n",
    "res = Entrez.read(req)\n",
    "res"
   ]
  },
  {
   "cell_type": "markdown",
   "metadata": {
    "colab_type": "text",
    "id": "1ngkHoIIwgcx"
   },
   "source": [
    "Ici on voit que les seules fasta disponible sont des variants d'epissage alternative, et vu que l'aligneur que nous allons construire ne va pas  être *splice-aware* , on aura des problèmes quand leurs introns n'aligneront pas avec notre sequence sauvage.\n",
    "\n",
    "Importons alors, un version du SEX1 sauvage modifié afin de presenter 1/4 des SNP enregistré sur dbSNP pour ce gène:"
   ]
  },
  {
   "cell_type": "code",
   "execution_count": 5,
   "metadata": {
    "colab": {
     "base_uri": "https://localhost:8080/",
     "height": 34
    },
    "colab_type": "code",
    "id": "6fXvEugyZfm2",
    "outputId": "f3c15e8d-9ff5-4801-cd86-e7c7183741f5"
   },
   "outputs": [
    {
     "data": {
      "text/plain": [
       "Seq('TATCTTCTGCAATTCGTGGTTTGTGAACACAAGAGAAAAAAAAAAAAAAACATA...AAG')"
      ]
     },
     "execution_count": 5,
     "metadata": {},
     "output_type": "execute_result"
    }
   ],
   "source": [
    "import urllib.request  # the lib that handles the url stuff\n",
    "from Bio.Seq import Seq\n",
    "data = urllib.request.urlopen('https://raw.githubusercontent.com/SL-LAIDLAW/projet-outilBioinfo/dev/fasta/sex1_mutant_SNP.fasta') # it's a file like object and works just like a file\n",
    "sex1_mutant = data.read()\n",
    "sex1_mutant = sex1_mutant.decode('utf8').split('\\n')[1:]\n",
    "sex1_mutant = \"\".join(sex1_mutant)\n",
    "\n",
    "sex1_mutant = Seq(sex1_mutant)\n",
    "sex1_mutant"
   ]
  },
  {
   "cell_type": "markdown",
   "metadata": {
    "colab_type": "text",
    "id": "IHXayGwfJRm-"
   },
   "source": [
    "## Alignement des séquences associées aux gènes sauvages/mutés"
   ]
  },
  {
   "cell_type": "markdown",
   "metadata": {
    "colab_type": "text",
    "id": "Tfj0bgKE0deU"
   },
   "source": [
    "### un alignement par paire global des séquences d’ARNm"
   ]
  },
  {
   "cell_type": "markdown",
   "metadata": {
    "colab_type": "text",
    "id": "LUlSZdPPum9u"
   },
   "source": [
    "Pour aligner nos sequences sauvages avec les mutants nous avons ecrit la fonction AlignSeqs qui effectue un alignement globale en utilisant l'algorithme Needleman–Wunsch."
   ]
  },
  {
   "cell_type": "code",
   "execution_count": 6,
   "metadata": {
    "colab": {
     "base_uri": "https://localhost:8080/",
     "height": 34
    },
    "colab_type": "code",
    "id": "Y7TMFq91rMay",
    "outputId": "19eeb163-23fd-4924-a9b9-678214a2ca78"
   },
   "outputs": [
    {
     "name": "stdout",
     "output_type": "stream",
     "text": [
      "/usr/local/lib/python2.7/site-packages/pip/_vendor/requests/__init__.py:83: RequestsDependencyWarning: Old version of cryptography ([1, 3]) may cause slowdown.\n",
      "  warnings.warn(warning, RequestsDependencyWarning)\n",
      "\u001b[33mDEPRECATION: Python 2.7 will reach the end of its life on January 1st, 2020. Please upgrade your Python as Python 2.7 won't be maintained after that date. A future version of pip will drop support for Python 2.7.\u001b[0m\n",
      "Requirement already satisfied: cython in /usr/local/lib/python2.7/site-packages (0.26.1)\n"
     ]
    }
   ],
   "source": [
    "!pip install cython\n",
    "%load_ext Cython"
   ]
  },
  {
   "cell_type": "code",
   "execution_count": 11,
   "metadata": {
    "colab": {},
    "colab_type": "code",
    "id": "mMothTUXGv9C"
   },
   "outputs": [],
   "source": [
    " %%cython\n",
    "import pandas as pd"
   ]
  },
  {
   "cell_type": "code",
   "execution_count": 12,
   "metadata": {
    "colab": {},
    "colab_type": "code",
    "id": "a-I6VY5cGRHS"
   },
   "outputs": [],
   "source": [
    "def InitializeTable(SeqX,SeqY):\n",
    "  # intitialise dataframe holding scores\n",
    "  df = pd.DataFrame(index=SeqY, columns=SeqX)\n",
    "  col_names = list(df.keys())\n",
    "  row_names = list(df.index)\n",
    "\n",
    "  # initiate table\n",
    "  df.iloc[0,0] = 0\n",
    "  for i in range(len(SeqY)):\n",
    "    df.iloc[i,0] = i * -1  # set row 0 to be -1,-2,-3\n",
    "  for i in range(len(SeqX)):\n",
    "    df.iloc[0,i] = i * -1  # set col 0 to be -1,-2,-3\n",
    "  return df"
   ]
  },
  {
   "cell_type": "code",
   "execution_count": 13,
   "metadata": {
    "colab": {},
    "colab_type": "code",
    "id": "Rs76f3PaGSgs"
   },
   "outputs": [],
   "source": [
    "%%cython\n",
    "def PopulateTable(seqX,seqY,df):     \n",
    "  df_dir = df.copy()\n",
    "  # populate table\n",
    "  for y in range(1,len(seqY)):\n",
    "    for x in range(1,len(seqX)):\n",
    "      current_score = -1000\n",
    "      \n",
    "      match_score = 1\n",
    "      mismatch_score = -1\n",
    "\n",
    "      if str(seqX[x]) == str(seqY[y]):\n",
    "        current_score = match_score\n",
    "      else:\n",
    "        current_score = mismatch_score\n",
    "\n",
    "      df.iloc[y,x] = current_score\n",
    "\n",
    "      top_left_score = ((df.iloc[y-1,x-1]), '\\x5C')\n",
    "      top_score = ((df.iloc[y-1,x]), '\\x7C')\n",
    "      left_score = ((df.iloc[y,x-1]), '\\x3C')\n",
    "\n",
    "      best_score = top_score[0]\n",
    "      best_direction = top_score[1]\n",
    "      score_list = [top_left_score, top_score, left_score]\n",
    "      for score_item in score_list:\n",
    "        if int(score_item[0]) > int(best_score):\n",
    "          best_direction = score_item[1]\n",
    "          best_score = score_item[0]\n",
    "\n",
    "        elif int(score_item[0]) == int(best_score):\n",
    "          if not best_direction.__contains__(score_item[1]):\n",
    "            best_direction += score_item[1]\n",
    "\n",
    "      # delete score objects from memory as this caused issues\n",
    "      for score in score_list:\n",
    "        del score\n",
    "\n",
    "      best_score = int(best_score)\n",
    "      best_score += current_score\n",
    "\n",
    "      df.iloc[y,x] = best_score\n",
    "      df_dir.iloc[y,x] = best_direction\n",
    "  return df, df_dir  "
   ]
  },
  {
   "cell_type": "code",
   "execution_count": 14,
   "metadata": {
    "colab": {},
    "colab_type": "code",
    "id": "91mEYJ0nGXcy"
   },
   "outputs": [],
   "source": [
    "def Traceback(df,df_dir):\n",
    "    # Start traceback\n",
    "    my_alignment_x =[]\n",
    "    my_alignment_y =[]\n",
    "    bottom_right_y = list(df.shape)[0] -1\n",
    "    bottom_right_x = list(df.shape)[1] -1\n",
    "\n",
    "    x = bottom_right_x\n",
    "    y = x - (bottom_right_x - bottom_right_y)\n",
    "    while x != 0:\n",
    "      current_coordinates = [y,x]\n",
    "      top_coordinates = [y-1,x]\n",
    "      left_coordinates = [y,x-1]\n",
    "      top_left_coordinates = [y-1,x-1]\n",
    "\n",
    "      current_nucleotide_x = df.keys()[x]\n",
    "      current_nucleotide_y = df.index[y]\n",
    "      current_direction = df_dir.iloc[y,x]\n",
    "\n",
    "      if current_direction.__contains__('\\\\'):\n",
    "        # move coordinates to top_left\n",
    "        x = top_left_coordinates[1]\n",
    "        y = top_left_coordinates[0]\n",
    "        my_alignment_x.append(current_nucleotide_x)\n",
    "        my_alignment_y.append(current_nucleotide_y)\n",
    "\n",
    "      elif current_direction.__contains__('|'):\n",
    "        # move coordinates to top\n",
    "        x = top_coordinates[1]\n",
    "        y = top_coordinates[0]\n",
    "        my_alignment_x.append('-')\n",
    "        my_alignment_y.append(current_nucleotide_y)\n",
    "\n",
    "      elif current_direction.__contains__('<'):\n",
    "        # move coordinates to left\n",
    "        x = left_coordinates[1]\n",
    "        y = left_coordinates[0]\n",
    "        my_alignment_x.append(current_nucleotide_x)\n",
    "        my_alignment_y.append('-')\n",
    "        \n",
    "      return my_alignment_x, my_alignment_y"
   ]
  },
  {
   "cell_type": "code",
   "execution_count": 15,
   "metadata": {
    "colab": {},
    "colab_type": "code",
    "id": "NJJo9uZdGbe3"
   },
   "outputs": [],
   "source": [
    "def GetVariations(my_alignment_x, my_alignment_y):\n",
    "  points_de_variations = set()\n",
    "  for i in range(len(my_alignment_x)):\n",
    "    x = my_alignment_x[i]\n",
    "    y = my_alignment_y[i]\n",
    "\n",
    "    if x != y:\n",
    "      points_de_variations.add(i)\n",
    "  return list(points_de_variations)"
   ]
  },
  {
   "cell_type": "code",
   "execution_count": 16,
   "metadata": {
    "colab": {},
    "colab_type": "code",
    "id": "XourqqJz6gTB"
   },
   "outputs": [],
   "source": [
    "def AlignSeqs(SeqX,SeqY):\n",
    "  SeqX = list(\" \" + SeqX)\n",
    "  SeqY = list(\" \" + SeqY)\n",
    "\n",
    "  match_score = 1\n",
    "  mismatch_score = -1\n",
    "  indel_score = -1\n",
    "  \n",
    "  penaltyArgs=[match_score, mismatch_score, indel_score]\n",
    "\n",
    "  df = InitializeTable(SeqX,SeqY)\n",
    "\n",
    "  df, df_dir = PopulateTableJit(SeqX,SeqY,df)\n",
    "\n",
    "\n",
    "  my_alignment_x, my_alignment_y = Traceback(df,df_dir)\n",
    "\n",
    "  my_alignment_x.reverse()\n",
    "  my_alignment_y.reverse()\n",
    "\n",
    "  points_de_variations = GetVariations(my_alignment_x, my_alignment_y)\n",
    "\n",
    "\n",
    "  return my_alignment_x, my_alignment_y, points_de_variations"
   ]
  },
  {
   "cell_type": "markdown",
   "metadata": {
    "colab_type": "text",
    "id": "Ucz2s3Wrh8sm"
   },
   "source": [
    "Cet étape prends beaucoup de temps donc est commenté pour l'instant"
   ]
  },
  {
   "cell_type": "code",
   "execution_count": 17,
   "metadata": {
    "colab": {},
    "colab_type": "code",
    "id": "2024QNyL2IVf"
   },
   "outputs": [
    {
     "ename": "KeyboardInterrupt",
     "evalue": "",
     "output_type": "error",
     "traceback": [
      "\u001b[0;31m---------------------------------------------------------------------------\u001b[0m",
      "\u001b[0;31mKeyboardInterrupt\u001b[0m                         Traceback (most recent call last)",
      "\u001b[0;32m<ipython-input-17-87e77617baed>\u001b[0m in \u001b[0;36m<module>\u001b[0;34m\u001b[0m\n\u001b[1;32m      1\u001b[0m \u001b[0mresult_dict\u001b[0m \u001b[0;34m=\u001b[0m \u001b[0;34m{\u001b[0m\u001b[0;34m}\u001b[0m\u001b[0;34m\u001b[0m\u001b[0;34m\u001b[0m\u001b[0m\n\u001b[0;32m----> 2\u001b[0;31m \u001b[0malignment_for_mutant\u001b[0m\u001b[0;34m,\u001b[0m \u001b[0malignment_for_sauvage\u001b[0m\u001b[0;34m,\u001b[0m \u001b[0mvariations\u001b[0m \u001b[0;34m=\u001b[0m \u001b[0mAlignSeqs\u001b[0m\u001b[0;34m(\u001b[0m\u001b[0msex1_mutant\u001b[0m\u001b[0;34m,\u001b[0m \u001b[0msex1_sauvage\u001b[0m\u001b[0;34m)\u001b[0m\u001b[0;34m\u001b[0m\u001b[0;34m\u001b[0m\u001b[0m\n\u001b[0m\u001b[1;32m      3\u001b[0m \u001b[0mresult_dict\u001b[0m\u001b[0;34m[\u001b[0m\u001b[0mmutant\u001b[0m\u001b[0;34m]\u001b[0m \u001b[0;34m=\u001b[0m \u001b[0;34m[\u001b[0m\u001b[0malignment_for_mutant\u001b[0m\u001b[0;34m,\u001b[0m \u001b[0malignment_for_sauvage\u001b[0m\u001b[0;34m,\u001b[0m \u001b[0mvariations\u001b[0m\u001b[0;34m]\u001b[0m\u001b[0;34m\u001b[0m\u001b[0;34m\u001b[0m\u001b[0m\n\u001b[1;32m      4\u001b[0m \u001b[0;34m\u001b[0m\u001b[0m\n\u001b[1;32m      5\u001b[0m \u001b[0mget_ipython\u001b[0m\u001b[0;34m(\u001b[0m\u001b[0;34m)\u001b[0m\u001b[0;34m.\u001b[0m\u001b[0mrun_line_magic\u001b[0m\u001b[0;34m(\u001b[0m\u001b[0;34m'store'\u001b[0m\u001b[0;34m,\u001b[0m \u001b[0;34m'result_dict'\u001b[0m\u001b[0;34m)\u001b[0m\u001b[0;34m\u001b[0m\u001b[0;34m\u001b[0m\u001b[0m\n",
      "\u001b[0;32m<ipython-input-16-d31b88a4c759>\u001b[0m in \u001b[0;36mAlignSeqs\u001b[0;34m(SeqX, SeqY)\u001b[0m\n\u001b[1;32m      9\u001b[0m   \u001b[0mpenaltyArgs\u001b[0m\u001b[0;34m=\u001b[0m\u001b[0;34m[\u001b[0m\u001b[0mmatch_score\u001b[0m\u001b[0;34m,\u001b[0m \u001b[0mmismatch_score\u001b[0m\u001b[0;34m,\u001b[0m \u001b[0mindel_score\u001b[0m\u001b[0;34m]\u001b[0m\u001b[0;34m\u001b[0m\u001b[0;34m\u001b[0m\u001b[0m\n\u001b[1;32m     10\u001b[0m \u001b[0;34m\u001b[0m\u001b[0m\n\u001b[0;32m---> 11\u001b[0;31m   \u001b[0mdf\u001b[0m \u001b[0;34m=\u001b[0m \u001b[0mInitializeTable\u001b[0m\u001b[0;34m(\u001b[0m\u001b[0mSeqX\u001b[0m\u001b[0;34m,\u001b[0m\u001b[0mSeqY\u001b[0m\u001b[0;34m)\u001b[0m\u001b[0;34m\u001b[0m\u001b[0;34m\u001b[0m\u001b[0m\n\u001b[0m\u001b[1;32m     12\u001b[0m \u001b[0;34m\u001b[0m\u001b[0m\n\u001b[1;32m     13\u001b[0m   \u001b[0mdf\u001b[0m\u001b[0;34m,\u001b[0m \u001b[0mdf_dir\u001b[0m \u001b[0;34m=\u001b[0m \u001b[0mPopulateTableJit\u001b[0m\u001b[0;34m(\u001b[0m\u001b[0mSeqX\u001b[0m\u001b[0;34m,\u001b[0m\u001b[0mSeqY\u001b[0m\u001b[0;34m,\u001b[0m\u001b[0mdf\u001b[0m\u001b[0;34m)\u001b[0m\u001b[0;34m\u001b[0m\u001b[0;34m\u001b[0m\u001b[0m\n",
      "\u001b[0;32m<ipython-input-12-69f1f454a7d7>\u001b[0m in \u001b[0;36mInitializeTable\u001b[0;34m(SeqX, SeqY)\u001b[0m\n\u001b[1;32m      8\u001b[0m   \u001b[0mdf\u001b[0m\u001b[0;34m.\u001b[0m\u001b[0miloc\u001b[0m\u001b[0;34m[\u001b[0m\u001b[0;36m0\u001b[0m\u001b[0;34m,\u001b[0m\u001b[0;36m0\u001b[0m\u001b[0;34m]\u001b[0m \u001b[0;34m=\u001b[0m \u001b[0;36m0\u001b[0m\u001b[0;34m\u001b[0m\u001b[0;34m\u001b[0m\u001b[0m\n\u001b[1;32m      9\u001b[0m   \u001b[0;32mfor\u001b[0m \u001b[0mi\u001b[0m \u001b[0;32min\u001b[0m \u001b[0mrange\u001b[0m\u001b[0;34m(\u001b[0m\u001b[0mlen\u001b[0m\u001b[0;34m(\u001b[0m\u001b[0mSeqY\u001b[0m\u001b[0;34m)\u001b[0m\u001b[0;34m)\u001b[0m\u001b[0;34m:\u001b[0m\u001b[0;34m\u001b[0m\u001b[0;34m\u001b[0m\u001b[0m\n\u001b[0;32m---> 10\u001b[0;31m     \u001b[0mdf\u001b[0m\u001b[0;34m.\u001b[0m\u001b[0miloc\u001b[0m\u001b[0;34m[\u001b[0m\u001b[0mi\u001b[0m\u001b[0;34m,\u001b[0m\u001b[0;36m0\u001b[0m\u001b[0;34m]\u001b[0m \u001b[0;34m=\u001b[0m \u001b[0mi\u001b[0m \u001b[0;34m*\u001b[0m \u001b[0;34m-\u001b[0m\u001b[0;36m1\u001b[0m  \u001b[0;31m# set row 0 to be -1,-2,-3\u001b[0m\u001b[0;34m\u001b[0m\u001b[0;34m\u001b[0m\u001b[0m\n\u001b[0m\u001b[1;32m     11\u001b[0m   \u001b[0;32mfor\u001b[0m \u001b[0mi\u001b[0m \u001b[0;32min\u001b[0m \u001b[0mrange\u001b[0m\u001b[0;34m(\u001b[0m\u001b[0mlen\u001b[0m\u001b[0;34m(\u001b[0m\u001b[0mSeqX\u001b[0m\u001b[0;34m)\u001b[0m\u001b[0;34m)\u001b[0m\u001b[0;34m:\u001b[0m\u001b[0;34m\u001b[0m\u001b[0;34m\u001b[0m\u001b[0m\n\u001b[1;32m     12\u001b[0m     \u001b[0mdf\u001b[0m\u001b[0;34m.\u001b[0m\u001b[0miloc\u001b[0m\u001b[0;34m[\u001b[0m\u001b[0;36m0\u001b[0m\u001b[0;34m,\u001b[0m\u001b[0mi\u001b[0m\u001b[0;34m]\u001b[0m \u001b[0;34m=\u001b[0m \u001b[0mi\u001b[0m \u001b[0;34m*\u001b[0m \u001b[0;34m-\u001b[0m\u001b[0;36m1\u001b[0m  \u001b[0;31m# set col 0 to be -1,-2,-3\u001b[0m\u001b[0;34m\u001b[0m\u001b[0;34m\u001b[0m\u001b[0m\n",
      "\u001b[0;32m/usr/local/lib/python3.7/site-packages/pandas/core/indexing.py\u001b[0m in \u001b[0;36m__setitem__\u001b[0;34m(self, key, value)\u001b[0m\n\u001b[1;32m    187\u001b[0m             \u001b[0mkey\u001b[0m \u001b[0;34m=\u001b[0m \u001b[0mcom\u001b[0m\u001b[0;34m.\u001b[0m\u001b[0m_apply_if_callable\u001b[0m\u001b[0;34m(\u001b[0m\u001b[0mkey\u001b[0m\u001b[0;34m,\u001b[0m \u001b[0mself\u001b[0m\u001b[0;34m.\u001b[0m\u001b[0mobj\u001b[0m\u001b[0;34m)\u001b[0m\u001b[0;34m\u001b[0m\u001b[0;34m\u001b[0m\u001b[0m\n\u001b[1;32m    188\u001b[0m         \u001b[0mindexer\u001b[0m \u001b[0;34m=\u001b[0m \u001b[0mself\u001b[0m\u001b[0;34m.\u001b[0m\u001b[0m_get_setitem_indexer\u001b[0m\u001b[0;34m(\u001b[0m\u001b[0mkey\u001b[0m\u001b[0;34m)\u001b[0m\u001b[0;34m\u001b[0m\u001b[0;34m\u001b[0m\u001b[0m\n\u001b[0;32m--> 189\u001b[0;31m         \u001b[0mself\u001b[0m\u001b[0;34m.\u001b[0m\u001b[0m_setitem_with_indexer\u001b[0m\u001b[0;34m(\u001b[0m\u001b[0mindexer\u001b[0m\u001b[0;34m,\u001b[0m \u001b[0mvalue\u001b[0m\u001b[0;34m)\u001b[0m\u001b[0;34m\u001b[0m\u001b[0;34m\u001b[0m\u001b[0m\n\u001b[0m\u001b[1;32m    190\u001b[0m \u001b[0;34m\u001b[0m\u001b[0m\n\u001b[1;32m    191\u001b[0m     \u001b[0;32mdef\u001b[0m \u001b[0m_validate_key\u001b[0m\u001b[0;34m(\u001b[0m\u001b[0mself\u001b[0m\u001b[0;34m,\u001b[0m \u001b[0mkey\u001b[0m\u001b[0;34m,\u001b[0m \u001b[0maxis\u001b[0m\u001b[0;34m)\u001b[0m\u001b[0;34m:\u001b[0m\u001b[0;34m\u001b[0m\u001b[0;34m\u001b[0m\u001b[0m\n",
      "\u001b[0;32m/usr/local/lib/python3.7/site-packages/pandas/core/indexing.py\u001b[0m in \u001b[0;36m_setitem_with_indexer\u001b[0;34m(self, indexer, value)\u001b[0m\n\u001b[1;32m    649\u001b[0m             \u001b[0mself\u001b[0m\u001b[0;34m.\u001b[0m\u001b[0mobj\u001b[0m\u001b[0;34m.\u001b[0m\u001b[0m_consolidate_inplace\u001b[0m\u001b[0;34m(\u001b[0m\u001b[0;34m)\u001b[0m\u001b[0;34m\u001b[0m\u001b[0;34m\u001b[0m\u001b[0m\n\u001b[1;32m    650\u001b[0m             self.obj._data = self.obj._data.setitem(indexer=indexer,\n\u001b[0;32m--> 651\u001b[0;31m                                                     value=value)\n\u001b[0m\u001b[1;32m    652\u001b[0m             \u001b[0mself\u001b[0m\u001b[0;34m.\u001b[0m\u001b[0mobj\u001b[0m\u001b[0;34m.\u001b[0m\u001b[0m_maybe_update_cacher\u001b[0m\u001b[0;34m(\u001b[0m\u001b[0mclear\u001b[0m\u001b[0;34m=\u001b[0m\u001b[0;32mTrue\u001b[0m\u001b[0;34m)\u001b[0m\u001b[0;34m\u001b[0m\u001b[0;34m\u001b[0m\u001b[0m\n\u001b[1;32m    653\u001b[0m \u001b[0;34m\u001b[0m\u001b[0m\n",
      "\u001b[0;32m/usr/local/lib/python3.7/site-packages/pandas/core/internals.py\u001b[0m in \u001b[0;36msetitem\u001b[0;34m(self, **kwargs)\u001b[0m\n\u001b[1;32m   3691\u001b[0m \u001b[0;34m\u001b[0m\u001b[0m\n\u001b[1;32m   3692\u001b[0m     \u001b[0;32mdef\u001b[0m \u001b[0msetitem\u001b[0m\u001b[0;34m(\u001b[0m\u001b[0mself\u001b[0m\u001b[0;34m,\u001b[0m \u001b[0;34m**\u001b[0m\u001b[0mkwargs\u001b[0m\u001b[0;34m)\u001b[0m\u001b[0;34m:\u001b[0m\u001b[0;34m\u001b[0m\u001b[0;34m\u001b[0m\u001b[0m\n\u001b[0;32m-> 3693\u001b[0;31m         \u001b[0;32mreturn\u001b[0m \u001b[0mself\u001b[0m\u001b[0;34m.\u001b[0m\u001b[0mapply\u001b[0m\u001b[0;34m(\u001b[0m\u001b[0;34m'setitem'\u001b[0m\u001b[0;34m,\u001b[0m \u001b[0;34m**\u001b[0m\u001b[0mkwargs\u001b[0m\u001b[0;34m)\u001b[0m\u001b[0;34m\u001b[0m\u001b[0;34m\u001b[0m\u001b[0m\n\u001b[0m\u001b[1;32m   3694\u001b[0m \u001b[0;34m\u001b[0m\u001b[0m\n\u001b[1;32m   3695\u001b[0m     \u001b[0;32mdef\u001b[0m \u001b[0mputmask\u001b[0m\u001b[0;34m(\u001b[0m\u001b[0mself\u001b[0m\u001b[0;34m,\u001b[0m \u001b[0;34m**\u001b[0m\u001b[0mkwargs\u001b[0m\u001b[0;34m)\u001b[0m\u001b[0;34m:\u001b[0m\u001b[0;34m\u001b[0m\u001b[0;34m\u001b[0m\u001b[0m\n",
      "\u001b[0;32m/usr/local/lib/python3.7/site-packages/pandas/core/internals.py\u001b[0m in \u001b[0;36mapply\u001b[0;34m(self, f, axes, filter, do_integrity_check, consolidate, **kwargs)\u001b[0m\n\u001b[1;32m   3579\u001b[0m \u001b[0;34m\u001b[0m\u001b[0m\n\u001b[1;32m   3580\u001b[0m             \u001b[0mkwargs\u001b[0m\u001b[0;34m[\u001b[0m\u001b[0;34m'mgr'\u001b[0m\u001b[0;34m]\u001b[0m \u001b[0;34m=\u001b[0m \u001b[0mself\u001b[0m\u001b[0;34m\u001b[0m\u001b[0;34m\u001b[0m\u001b[0m\n\u001b[0;32m-> 3581\u001b[0;31m             \u001b[0mapplied\u001b[0m \u001b[0;34m=\u001b[0m \u001b[0mgetattr\u001b[0m\u001b[0;34m(\u001b[0m\u001b[0mb\u001b[0m\u001b[0;34m,\u001b[0m \u001b[0mf\u001b[0m\u001b[0;34m)\u001b[0m\u001b[0;34m(\u001b[0m\u001b[0;34m**\u001b[0m\u001b[0mkwargs\u001b[0m\u001b[0;34m)\u001b[0m\u001b[0;34m\u001b[0m\u001b[0;34m\u001b[0m\u001b[0m\n\u001b[0m\u001b[1;32m   3582\u001b[0m             \u001b[0mresult_blocks\u001b[0m \u001b[0;34m=\u001b[0m \u001b[0m_extend_blocks\u001b[0m\u001b[0;34m(\u001b[0m\u001b[0mapplied\u001b[0m\u001b[0;34m,\u001b[0m \u001b[0mresult_blocks\u001b[0m\u001b[0;34m)\u001b[0m\u001b[0;34m\u001b[0m\u001b[0;34m\u001b[0m\u001b[0m\n\u001b[1;32m   3583\u001b[0m \u001b[0;34m\u001b[0m\u001b[0m\n",
      "\u001b[0;32m/usr/local/lib/python3.7/site-packages/pandas/core/internals.py\u001b[0m in \u001b[0;36msetitem\u001b[0;34m(self, indexer, value, mgr)\u001b[0m\n\u001b[1;32m    941\u001b[0m \u001b[0;34m\u001b[0m\u001b[0m\n\u001b[1;32m    942\u001b[0m         \u001b[0;31m# coerce and try to infer the dtypes of the result\u001b[0m\u001b[0;34m\u001b[0m\u001b[0;34m\u001b[0m\u001b[0;34m\u001b[0m\u001b[0m\n\u001b[0;32m--> 943\u001b[0;31m         \u001b[0mvalues\u001b[0m \u001b[0;34m=\u001b[0m \u001b[0mself\u001b[0m\u001b[0;34m.\u001b[0m\u001b[0m_try_coerce_and_cast_result\u001b[0m\u001b[0;34m(\u001b[0m\u001b[0mvalues\u001b[0m\u001b[0;34m,\u001b[0m \u001b[0mdtype\u001b[0m\u001b[0;34m)\u001b[0m\u001b[0;34m\u001b[0m\u001b[0;34m\u001b[0m\u001b[0m\n\u001b[0m\u001b[1;32m    944\u001b[0m         \u001b[0mblock\u001b[0m \u001b[0;34m=\u001b[0m \u001b[0mself\u001b[0m\u001b[0;34m.\u001b[0m\u001b[0mmake_block\u001b[0m\u001b[0;34m(\u001b[0m\u001b[0mtransf\u001b[0m\u001b[0;34m(\u001b[0m\u001b[0mvalues\u001b[0m\u001b[0;34m)\u001b[0m\u001b[0;34m)\u001b[0m\u001b[0;34m\u001b[0m\u001b[0;34m\u001b[0m\u001b[0m\n\u001b[1;32m    945\u001b[0m         \u001b[0;32mreturn\u001b[0m \u001b[0mblock\u001b[0m\u001b[0;34m\u001b[0m\u001b[0;34m\u001b[0m\u001b[0m\n",
      "\u001b[0;32m/usr/local/lib/python3.7/site-packages/pandas/core/internals.py\u001b[0m in \u001b[0;36m_try_coerce_and_cast_result\u001b[0;34m(self, result, dtype)\u001b[0m\n\u001b[1;32m    750\u001b[0m     \u001b[0;32mdef\u001b[0m \u001b[0m_try_coerce_and_cast_result\u001b[0m\u001b[0;34m(\u001b[0m\u001b[0mself\u001b[0m\u001b[0;34m,\u001b[0m \u001b[0mresult\u001b[0m\u001b[0;34m,\u001b[0m \u001b[0mdtype\u001b[0m\u001b[0;34m=\u001b[0m\u001b[0;32mNone\u001b[0m\u001b[0;34m)\u001b[0m\u001b[0;34m:\u001b[0m\u001b[0;34m\u001b[0m\u001b[0;34m\u001b[0m\u001b[0m\n\u001b[1;32m    751\u001b[0m         \u001b[0mresult\u001b[0m \u001b[0;34m=\u001b[0m \u001b[0mself\u001b[0m\u001b[0;34m.\u001b[0m\u001b[0m_try_coerce_result\u001b[0m\u001b[0;34m(\u001b[0m\u001b[0mresult\u001b[0m\u001b[0;34m)\u001b[0m\u001b[0;34m\u001b[0m\u001b[0;34m\u001b[0m\u001b[0m\n\u001b[0;32m--> 752\u001b[0;31m         \u001b[0mresult\u001b[0m \u001b[0;34m=\u001b[0m \u001b[0mself\u001b[0m\u001b[0;34m.\u001b[0m\u001b[0m_try_cast_result\u001b[0m\u001b[0;34m(\u001b[0m\u001b[0mresult\u001b[0m\u001b[0;34m,\u001b[0m \u001b[0mdtype\u001b[0m\u001b[0;34m=\u001b[0m\u001b[0mdtype\u001b[0m\u001b[0;34m)\u001b[0m\u001b[0;34m\u001b[0m\u001b[0;34m\u001b[0m\u001b[0m\n\u001b[0m\u001b[1;32m    753\u001b[0m         \u001b[0;32mreturn\u001b[0m \u001b[0mresult\u001b[0m\u001b[0;34m\u001b[0m\u001b[0;34m\u001b[0m\u001b[0m\n\u001b[1;32m    754\u001b[0m \u001b[0;34m\u001b[0m\u001b[0m\n",
      "\u001b[0;32m/usr/local/lib/python3.7/site-packages/pandas/core/internals.py\u001b[0m in \u001b[0;36m_try_cast_result\u001b[0;34m(self, result, dtype)\u001b[0m\n\u001b[1;32m    730\u001b[0m \u001b[0;34m\u001b[0m\u001b[0m\n\u001b[1;32m    731\u001b[0m         \u001b[0;31m# may need to change the dtype here\u001b[0m\u001b[0;34m\u001b[0m\u001b[0;34m\u001b[0m\u001b[0;34m\u001b[0m\u001b[0m\n\u001b[0;32m--> 732\u001b[0;31m         \u001b[0;32mreturn\u001b[0m \u001b[0mmaybe_downcast_to_dtype\u001b[0m\u001b[0;34m(\u001b[0m\u001b[0mresult\u001b[0m\u001b[0;34m,\u001b[0m \u001b[0mdtype\u001b[0m\u001b[0;34m)\u001b[0m\u001b[0;34m\u001b[0m\u001b[0;34m\u001b[0m\u001b[0m\n\u001b[0m\u001b[1;32m    733\u001b[0m \u001b[0;34m\u001b[0m\u001b[0m\n\u001b[1;32m    734\u001b[0m     \u001b[0;32mdef\u001b[0m \u001b[0m_try_coerce_args\u001b[0m\u001b[0;34m(\u001b[0m\u001b[0mself\u001b[0m\u001b[0;34m,\u001b[0m \u001b[0mvalues\u001b[0m\u001b[0;34m,\u001b[0m \u001b[0mother\u001b[0m\u001b[0;34m)\u001b[0m\u001b[0;34m:\u001b[0m\u001b[0;34m\u001b[0m\u001b[0;34m\u001b[0m\u001b[0m\n",
      "\u001b[0;32m/usr/local/lib/python3.7/site-packages/pandas/core/dtypes/cast.py\u001b[0m in \u001b[0;36mmaybe_downcast_to_dtype\u001b[0;34m(result, dtype)\u001b[0m\n\u001b[1;32m     85\u001b[0m     \u001b[0;32mif\u001b[0m \u001b[0misinstance\u001b[0m\u001b[0;34m(\u001b[0m\u001b[0mdtype\u001b[0m\u001b[0;34m,\u001b[0m \u001b[0mstring_types\u001b[0m\u001b[0;34m)\u001b[0m\u001b[0;34m:\u001b[0m\u001b[0;34m\u001b[0m\u001b[0;34m\u001b[0m\u001b[0m\n\u001b[1;32m     86\u001b[0m         \u001b[0;32mif\u001b[0m \u001b[0mdtype\u001b[0m \u001b[0;34m==\u001b[0m \u001b[0;34m'infer'\u001b[0m\u001b[0;34m:\u001b[0m\u001b[0;34m\u001b[0m\u001b[0;34m\u001b[0m\u001b[0m\n\u001b[0;32m---> 87\u001b[0;31m             \u001b[0minferred_type\u001b[0m \u001b[0;34m=\u001b[0m \u001b[0mlib\u001b[0m\u001b[0;34m.\u001b[0m\u001b[0minfer_dtype\u001b[0m\u001b[0;34m(\u001b[0m\u001b[0m_ensure_object\u001b[0m\u001b[0;34m(\u001b[0m\u001b[0mresult\u001b[0m\u001b[0;34m.\u001b[0m\u001b[0mravel\u001b[0m\u001b[0;34m(\u001b[0m\u001b[0;34m)\u001b[0m\u001b[0;34m)\u001b[0m\u001b[0;34m)\u001b[0m\u001b[0;34m\u001b[0m\u001b[0;34m\u001b[0m\u001b[0m\n\u001b[0m\u001b[1;32m     88\u001b[0m             \u001b[0;32mif\u001b[0m \u001b[0minferred_type\u001b[0m \u001b[0;34m==\u001b[0m \u001b[0;34m'boolean'\u001b[0m\u001b[0;34m:\u001b[0m\u001b[0;34m\u001b[0m\u001b[0;34m\u001b[0m\u001b[0m\n\u001b[1;32m     89\u001b[0m                 \u001b[0mdtype\u001b[0m \u001b[0;34m=\u001b[0m \u001b[0;34m'bool'\u001b[0m\u001b[0;34m\u001b[0m\u001b[0;34m\u001b[0m\u001b[0m\n",
      "\u001b[0;31mKeyboardInterrupt\u001b[0m: "
     ]
    }
   ],
   "source": [
    "result_dict = {}\n",
    "alignment_for_mutant, alignment_for_sauvage, variations = AlignSeqs(sex1_mutant, sex1_sauvage)\n",
    "result_dict[mutant] = [alignment_for_mutant, alignment_for_sauvage, variations]\n",
    "\n",
    "%store result_dict"
   ]
  },
  {
   "cell_type": "markdown",
   "metadata": {
    "colab_type": "text",
    "id": "jRIxcNmg0e3N"
   },
   "source": [
    "### donner les positions des variations sauvage/muté"
   ]
  },
  {
   "cell_type": "code",
   "execution_count": null,
   "metadata": {
    "colab": {},
    "colab_type": "code",
    "id": "pfB_Rb0a0zUz"
   },
   "outputs": [],
   "source": [
    "%store -r result_dict  # loads saved result from cache instead of re-running command\n",
    "\n",
    "for key in result_dict.keys():\n",
    "  result_list = result_dict[key]\n",
    "  variants = result_list[2]\n",
    "  for var in variants:\n",
    "    print(var)"
   ]
  },
  {
   "cell_type": "markdown",
   "metadata": {
    "colab_type": "text",
    "id": "D6cPw4Xe00aL"
   },
   "source": [
    "### taux de GC / traduction pour obtenir les séquences protéiques"
   ]
  },
  {
   "cell_type": "code",
   "execution_count": 18,
   "metadata": {
    "colab": {},
    "colab_type": "code",
    "id": "Tj71epn-0ib2"
   },
   "outputs": [
    {
     "name": "stdout",
     "output_type": "stream",
     "text": [
      "42.57936507936508\n",
      "42.57820282924885\n"
     ]
    }
   ],
   "source": [
    "from Bio.SeqUtils import GC\n",
    "from Bio.Seq import Seq\n",
    "\n",
    "taux_GC_sauvage = GC(sex1_sauvage)\n",
    "print(taux_GC_sauvage)\n",
    "taux_GC_mutant = GC(sex1_mutant)\n",
    "print(taux_GC_mutant)"
   ]
  },
  {
   "cell_type": "code",
   "execution_count": 19,
   "metadata": {
    "colab": {},
    "colab_type": "code",
    "id": "24hGHJfn4lvR"
   },
   "outputs": [
    {
     "name": "stdout",
     "output_type": "stream",
     "text": [
      "YLLQFVVCEHKRKKKKNIKKKEKLKKAKINGEKILYIIRKYHPNKKKRWSPQIPSINVSLGSLSPCRSSYVLE*RCATWWNRRIKCRFLLRLHVSVCMCE*VKKNKERRNPPALTSSIRSFKFWDLLSFSHCIQFLRLGSIIRSGKFDSVTRKHE*LCSA*LT*PGFDSSS*L*TSKQAQLLCVPNFNSKSGSWQDWQIKTLRERS*AGRTQSGH*NRRKTSLICSTSCPCHGSSGSREI*S*RKYRFTG*SHFYNCKRSKYPDSLYK*HIVPTLGCNS*QQRKLGSTFSLSG*NSKLQEQCA*NSICEIRWQFSP*TRDR*SCHTRY*VPYI*RKSEQMV*K*WSEFSYKLTNGKECETKCFCS*RSCTDPSIS*MGT*G*TNVQP*EREGGV*SRPDGATGGNDARCFSGRSQSKAVEER*Q**IPKI*WDIIQWTGGKEKSFQATRA*KKL*H*QDPAQGKGPD*AYL*ACC*FC*TRIQILI*TTVLNNSGDIRQSKGGTRNHSSL*QENIQA*RQCDFGVCY*TFRKDENSCGN*F*RAGYPSLGFVSKGWRMVGPTFRYTATKLFASTWCC*YKTDHHFNRSS*SGSNF*AGNRR*QLQGHAVCTQCW*KVD*K**Q*LLCGLC*RRKTCSEGLWRWKGYSQAFTGQNRRFGE*GPEVFHASIQHCSRSCGRGKKCWSTGLCRDPSLDEVYGYKTACVEQKL*C*AKGDKQSAG*TD*PSPGRLCKLSRVQRTFADDNVYCRSRR*RRCRATNP*RNSSHPAEK*LQGWNYGGMASEVA*QH*SR*CCHLSGIDGLYQK*L*LKCLLEDLER*WHNQRATLKL*SCYTF*TKF*RRTKRRSFA*SWTLHEDFKGCSFRGRP*VGYTKLHGLPR*R*RFHGWGADKSCIRIAFWISRLASFRPRTC*RKECRATS*GFA*SSSRAKATSAEVP*PPQGSVILGPRS*FYCQNSD*KRI*AIE*CWT*ENHVLHQPSS*KSCPLFR*Q*RPYILLEGMAICPRHVQEQKRSLGSVCKICS*QKPTSTGKQS*EVP*NSATIG*ISWILSWSRSVGC*YIY*RDHSSWICSSIVVTC*PT*PSS*EDC*LGKLAGY*SCRGRRICHCCGRIAHCTE*NLR*TYNYSCKQSERRGGNP*WCSCGTDT*HAGCTISCFCSSKKWKDLLCHMF*FWYLI*PPRKRWKTVEPTTNLCRCSL*RGKR**AFESKFRQPGRCPSKYFFGQETVCG*ICYII*GVHK*LGWC*IKKYRVSERKSSFLGWYPNFSCVAIWCF*EGYLRKGESGGER*IASIEENS**GRPRCSEGNPADTVGASCTPRTG*RTEKYYEKF*HAMAG**R*TEMGASLGSH*KGLGFEMERESILQHEESKTGS*LSLHGCFGPRSHQCGLRIRHSHN*SIFWRFIRDLCRGGQRPWGNSCRSISRSVSEFHLQEKQP*FASGVGLPKQTDWAVHKTFNHLQI*FQWRRS*RLCRCRPLRQCTNGRGRPSRARLHNRSSDH*LELPEKGSLRHCTRWRCH*ETLWNCTGH*RCDQRREALCRPDTTTSVIKFSDHFLMCTLRFLSSKLLICSISKEYNTA*AYSGLQNV*YKDIWHYH*DINKKTVYWSWKFLQLLLLEVECN*KLLVVSLVERYDYLVFGFCELVTQLYSQFKLGSKL**NIDNVSFFPE*FSFK\n",
      "YLLQFVVCEHKRKKKKNIKKKEKLKKAKINGEKILYIIRKYHPNKKKRWSPQIPSINVSLGSLSPCRSSYVLE*RCATWWNRRIKCRFLLRLHVSVCMCE*VKKNKERRNPPALTSSIRSFKFWDLLSFSHCIQFLRLGSIIRSGKFDSVTRKHE*LCSA*LT*PGFDSSS*L*T*NKLNSSVYQTSTANPALGKIGRSKLYGKGLSRQDAVWSLKQEKTSLICSTSCPCHGSSGSREI*S*RKYRFTG*SHFYNCKRSKIQIAYTSDTLFLHWGAILDNKENWVYLLALRIELKTSRTVRLELHL*NPVAILTLN*R*MILPYTLLSSLYLTKVEQMV*K*WSEFSYKLTNGKECETKCFCS*RSCTDPSIS*MGTRVNKCTTLRKRRRSMKPPGRSYGRK*CEVLQWKISEQSC*RKITVMNPQNLMGHHPWTGGKEKSFQATRA*KKL*H*QDPAQGKGPD*AYL*ACC*FC*TRIQILTEPRSLTTLEIYAKAKEEQETTPVFSKKTFKLEGSAILVFVTKLPERRKFMWQLILKSRLPFTGLVSKGWRMVGPTFRYTATKLFASTWCC*YKTDHHFNRSS*PVQTFELEIEGDSYKGMPFVLNAGERWIKNNEVTFMWTLLKKKNMFRRIMAMERVQPSIYWTKSQIWRVRPRSLSCIDSTLQQILWTRQKVLVNWALQGSSLDEVYGYKTACVEQKL*C*AKGDKQSAG*TD*PSPGRLCKLSRVQRTFADDNVYCR*GGEGDVGQRIRDEILVIQRKNDCKGGIMEEWHQKLHNNTSPDDVVICQALMDYIKSDFDLSVYWKTLNDNGITKERLLSYDRAIHSEPNFRGEQKDGLLRDLGHYMRTLKAVHSGADLESAIQNCMGYQDDGEGFMVGVQINPVSGLPSGYPDLLRFVLELLKKRM*SHFLRVCLKLVKS*GPSAEVP*PPQGSVILGPRS*FYCQNSD*KRI*AIE*CWT*ENHVLHQPSS*KSCPLFR*Q*RPYILLEGMAICPRLCKSKKDHWALYAKSVLDRSRLALASKAERYLEILQPSAEYLGSCLGSISRLLVYLLKRSFELDLQQHCRHLLTDLTQFLGRLLTWEVGRLLVL*RSSDMSLLWTNCSLYR*NLR*TYNYSCKQSERRGGNP*WCSCGTDT*HAGCTISCFCSSKKWKDLLCHMF*FWYLI*PPRKRWKTVEPTTNLCRCSL*RGKR**AFESKFRQPGRCPSKYFFGQETVCG*ICYII*GVHK*LGWC*IKKYRVSERKSSFLGWYPNFSCVAIWCF*EGYLRKGESGGER*IASIEENS**GRPRCSEGNPADTVGASCTPRTG*RTEKYYEKF*HAMAG**R*TEMGASLGSH*KGLGFEMERESILQHEESKTGS*LSLHGCFGPRSHQCGLRIRHSHN*SIFWRFIRDLCRGGQRPWGNSCRSISRSVSEFHLQEKQP*FASGVGLPKQTDWAVHKTFNHLQI*FQWRRS*RLCRCRPLRQCTNGRGRPSRARLHNRSSDH*LELPEKGSLRHCTRWRCH*ETLWNCTGH*RCDQRREALCRPDTTTSVIKFSDHFLMCTLRFLSSKLLICSISKEYNTA*AYSGLQNV*YKDIWHYH*DINKKTVYWSWKFLQLLLLEVECN*KLLVVSLVERYDYLVFGFCELVTQLYSQFKLGSKL**NIDNVSFFPE*FSFK\n"
     ]
    }
   ],
   "source": [
    "from Bio import SeqIO\n",
    "from Bio import AlignIO\n",
    "from Bio.Seq import Seq\n",
    "from Bio.SeqUtils import GC\n",
    "from Bio import SeqIO\n",
    "from Bio.SeqRecord import SeqRecord\n",
    "\n",
    "\n",
    "trans_sauvage = sex1_sauvage.translate()\n",
    "trans_mutant = sex1_mutant.translate()\n",
    "\n",
    "print(trans_sauvage)\n",
    "print(trans_mutant)"
   ]
  },
  {
   "cell_type": "markdown",
   "metadata": {
    "colab_type": "text",
    "id": "X1huvEa5Dv4W"
   },
   "source": [
    "# Base de données"
   ]
  },
  {
   "cell_type": "markdown",
   "metadata": {
    "colab_type": "text",
    "id": "CIXoEEVLEWO0"
   },
   "source": [
    "## Reflexion sur le type de base de données"
   ]
  },
  {
   "cell_type": "markdown",
   "metadata": {
    "colab_type": "text",
    "id": "6eRl6EBaEaNG"
   },
   "source": [
    "On a eu le choix d’un des SGBD vu ce semestre : chado/postgresql (module phenotype), relationnel seul (oracle, postgresqlou mysql), neo4j, couchdb, triplestore jena/rdf. \n",
    "\n",
    "On a choisi d'eviter les base de données NoSQL car nous avons plus d'experience avec ceux là. \n",
    "\n",
    "Notre choix s'est ainsi  porté sur la base de données Chado. Celle-ci est conçue spécialement pour gérer les représentations complexes de données biologiques. Chado va également posséder des modules permettant de gérer spécifiquement les relations entre termes ontologiques. Pour créer sa base de données Chado utilise le système  de gestion PostgreSQL. Ayant deja des bases en SQL , ce choix nous a ainsi paru judicieux  pour pouvoir réaliser une implémentation correcte de la base de données avec un temps limité et la taille de notre groupe."
   ]
  },
  {
   "cell_type": "markdown",
   "metadata": {
    "colab_type": "text",
    "id": "K41fxSetDz9m"
   },
   "source": [
    "## Modelisation de la base de données"
   ]
  },
  {
   "cell_type": "markdown",
   "metadata": {
    "colab_type": "text",
    "id": "kstiJ-1T6bck"
   },
   "source": [
    "Avant de nous lancer dans la création de notre base de donnée il faut d'abord la penser. Pour ce faire le meilleur moyen est de se représenter la base de données visuellement à l'aide d'un shéma UML et plus particulièrement d'un diagramme de classes. Notre bases de données se divise en \"deux\" parties. Une gérant les données issues des expérimentations des M1 BFP et l'autre gérant les termes d'ontologies. Un lien est fait entre ces 2 parties au niveau de la table phénotype. Avec le recul cette manière de faire n'était probablement pas la meilleure et des améliorations doivent être apportés principalement pour la partie gérant l'ontologie.\n",
    "\n",
    "\n",
    "Nous retrouvons ansi avec une base de données corrspondant au diagramme de classe suivant:"
   ]
  },
  {
   "cell_type": "markdown",
   "metadata": {
    "colab_type": "text",
    "id": "aL2vyUpZ6pLF"
   },
   "source": [
    "![Diagramme de Classe](https://raw.githubusercontent.com/SL-LAIDLAW/projet-outilBioinfo/dev/img/class_diagram.png)\n",
    "\n"
   ]
  },
  {
   "cell_type": "markdown",
   "metadata": {
    "colab_type": "text",
    "id": "0RT-DruKFdkB"
   },
   "source": [
    "### Ontologie"
   ]
  },
  {
   "cell_type": "markdown",
   "metadata": {
    "colab_type": "text",
    "id": "jNsI08EqFiMG"
   },
   "source": [
    "Il a ainsi fallu penser à la manière d'intégrer l'ontologie dans notre base de données  . L'ontologie va représenter des concepts (comme une caractéristique phénotypique)   et les relations que ces concepts peuvent partager.  Dans notre cas on s'est intéressé à rechercher les relations entre les termes ontologiques constituant les phénotypes observés et mesurés par les étudiants BFP.  Pour ce faire ces phénotypes ont été \"décomposé\"  en plusieurs et leur terme ontologique ont été associé en une relation. Par exemple, la longueur de la racine primaire va corrrespondre à une longueur de racine (possédant son terme ontologique) qui ferait partie (is part of) d'une racine primaire(possédant aussi son propre terme ontologique).  ces données générées seront ensuite insérées dans notre base de données. Ces données peuvent être récupérées grâce à de nombreuses ressources regroupant les termes d'ontologies appartenant à un même \"groupe\". "
   ]
  },
  {
   "cell_type": "markdown",
   "metadata": {
    "colab_type": "text",
    "id": "MlL_6PJtHjNB"
   },
   "source": [
    "## Implantation de la base de données et peuplement"
   ]
  },
  {
   "cell_type": "code",
   "execution_count": null,
   "metadata": {
    "colab": {},
    "colab_type": "code",
    "id": "mzBJmNDvzCCq"
   },
   "outputs": [],
   "source": [
    "from Bio import SeqIO\n",
    "import pandas as pd"
   ]
  },
  {
   "cell_type": "code",
   "execution_count": null,
   "metadata": {
    "colab": {},
    "colab_type": "code",
    "id": "kG1ZVskc1xo1"
   },
   "outputs": [],
   "source": [
    "df = pd.read_csv(\"https://raw.githubusercontent.com/SL-LAIDLAW/projet-outilBioinfo/dev/CSV/Data_Projet_Entete.csv\",sep=\";\")\n",
    "df['Mutant'] = False\n",
    "df['Mutant'].loc[df['Genotype'] != \"Col_0\"] = True\n",
    "df.loc[df['Mutant'] == True]"
   ]
  },
  {
   "cell_type": "markdown",
   "metadata": {
    "colab_type": "text",
    "id": "OsrF0az4S3fR"
   },
   "source": [
    "## Création des tables"
   ]
  },
  {
   "cell_type": "markdown",
   "metadata": {
    "colab_type": "text",
    "id": "tF4Im5IiTYuG"
   },
   "source": [
    "Afin de créer les tables un script SQL de création de ces tables à été écrit. Celui-ci va constituer dans un premier temps en la destruction des tables et de leurs contraintes dans le cas à l'aide d'un drop table. Il va ensuite permettre de construire ces tables en affectant les clefs primaires et étrangères appropriés à chaque table."
   ]
  },
  {
   "cell_type": "code",
   "execution_count": 0,
   "metadata": {
    "colab": {},
    "colab_type": "code",
    "id": "XTdZBN1V3KKZ"
   },
   "outputs": [],
   "source": [
    "------Destruction des tables\n",
    "\n",
    "drop table plant cascade ;\n",
    "drop table phenotype cascade ;\n",
    "drop table  boite cascade ;\n",
    "drop table  milieu cascade ;\n",
    "drop table  genotype cascade ;\n",
    "drop table  gene cascade ;\n",
    "drop table  cv cascade ;\n",
    "drop table cvterm cascade ;\n",
    "drop table  features cascade ;\n",
    "\n",
    "--------------------------------------------------Creations tables--------------------------------------------\n",
    "\n",
    "----table plant\n",
    "create table plant (plant_id varchar(10) not null, primary key (plant_id), grouping int not null, plant_group int not null);\n",
    "\n",
    "---table phenotype\n",
    "create table phenotype (organism_id serial,primary key (organism_id), ShootArea real,  distFromHypocotyl real,  chlorophyll real, \n",
    "\t\t\t\t\t\tRoot_area real, tortuosity real, PR_lenght real, LR_lenght real,\n",
    "\t\t\t\t\t\tplant_id varchar(10) not null, constraint ph_fk foreign key (plant_id) references plant (plant_id) on delete cascade INITIALLY DEFERRED);\n",
    "\n",
    "----table boite\n",
    "create table boite (id_boite int, primary key(id_boite), plate varchar (20) not null, plant_id varchar (10), constraint b_fk foreign key (plant_id) references plant (plant_id) on delete cascade INITIALLY DEFERRED);\n",
    "\n",
    "----table milieu\n",
    "create table milieu(id_milieu int, primary key(id_milieu), type varchar (150) not null, \n",
    "\t\t\t id_boite int not null, constraint m_fk foreign key(id_boite) references boite(id_boite) on delete cascade INITIALLY DEFERRED);\n",
    "\n",
    "----table genotype\n",
    "create table gene(gene_id int not null, primary key(gene_id), gene_name varchar(20), est_mutant boolean);\n",
    "\n",
    "----table gene\n",
    "create table genotype(gene_id int not null, plant_id varchar(10), \n",
    "\t\t\t\t\tconstraint geno_pk primary key (gene_id, plant_id), \n",
    "\t\t\t\t\tconstraint gen_fk foreign key (gene_id) references gene(gene_id) on delete cascade INITIALLY DEFERRED, constraint plant_fk foreign key (plant_id) references plant(plant_id) on delete cascade INITIALLY DEFERRED);\n",
    "\n",
    "---------------Tables Ontologies-----------\n",
    "\n",
    "----table cv\n",
    "create table cv(cv_id serial not null, primary key (cv_id), name varchar(255) not null, definition text, constraint cv_c1 unique (name));\n",
    "\n",
    "----table cvterm\n",
    "create table cvterm(cvterm_id serial not null,\n",
    "    primary key (cvterm_id),\n",
    "    cv_id int not null,\n",
    "    constraint cvt_fk foreign key (cv_id) references cv (cv_id) on delete cascade INITIALLY DEFERRED ,\n",
    "    name varchar(1024) not null,\n",
    "    definition text);\n",
    "\n",
    "\n",
    "create table features(feature_id serial not null,\n",
    "    primary key (feature_id),  organism_id int not null,\n",
    "    constraint f1_fk foreign key (organism_id) references phenotype (organism_id) on delete cascade INITIALLY DEFERRED,\n",
    "    name varchar(20),\n",
    "    uniquename text not null, type_id int not null,\n",
    "    constraint f2_fk foreign key (type_id) references cvterm (cvterm_id) on delete cascade INITIALLY DEFERRED);"
   ]
  },
  {
   "cell_type": "markdown",
   "metadata": {
    "colab_type": "text",
    "id": "Z-BawZan3Pej"
   },
   "source": [
    "Afin de générer les tables nécessaires à l'ontologie, le module cv de Chado à été utilisé. Je me rends compte cependant à l'écriture de ce rapport que  j'ai mal compris et mal utilisé ce module cv, notamment en n'utilisant pas la table cv_term relationship."
   ]
  },
  {
   "cell_type": "markdown",
   "metadata": {
    "colab_type": "text",
    "id": "Uz_PCK-y3Te6"
   },
   "source": [
    "## Insertions des données dans les tuples"
   ]
  },
  {
   "cell_type": "markdown",
   "metadata": {
    "colab_type": "text",
    "id": "mFVSNkba35As"
   },
   "source": [
    "Afin de ne pas avoir à insérer les données issues du document csv qui nous a été fourni manuellement dans nos tuples une réorganisation de celles-ci a été effectué. Celle-ci ont ainsi été redistribuées sur plusieurs fichier csv correspondant chacun à une table donnée. On peut ensuite insérer les données contenues dans ces fichier dans nos tuples à l'aide de la commande \\copy . \n",
    "\n",
    "Ci-dessous le script de remplissage des tuples:"
   ]
  },
  {
   "cell_type": "code",
   "execution_count": 0,
   "metadata": {
    "colab": {},
    "colab_type": "code",
    "id": "Kc9EU7JO384D"
   },
   "outputs": [],
   "source": [
    "-----------------------CREATION DES TUPLES-------------------------------\n",
    "\n",
    "----------------Plant-------------------------------\n",
    "\n",
    "\\copy plant FROM 'plant.csv' delimiter ',' CSV HEADER;\n",
    "\n",
    "-----------------Phenotypes--------------------------\n",
    "\n",
    "\\copy phenotype FROM 'phenotype.csv' delimiter ',' CSV HEADER;\n",
    "\n",
    "-----------------boite------------------------\n",
    "\n",
    "\\copy boite FROM 'boite.csv' delimiter ',' CSV HEADER;\n",
    "\n",
    "-----------------Milieu-------------------------\n",
    "\n",
    "\\copy milieu FROM 'milieu.csv' delimiter ',' CSV HEADER;\n",
    "\n",
    "-----------------gene-------------------------------\n",
    "\n",
    "\\copy gene FROM 'gene.csv' delimiter ',' CSV HEADER;\n",
    "\n",
    "\n",
    "-----------------genotype------------------------\n",
    "\n",
    "\\copy genotype FROM 'genotype.csv' delimiter ',' CSV HEADER;\n",
    "\n",
    "------------------cv--------------------------------\n",
    "\n",
    "insert into cv values ( DEFAULT, 'http://purl.obolibrary.org/obo/pato.owl' , 'PATO');\n",
    "insert into cv values ( DEFAULT, 'http://purl.obolibrary.org/obo/po.owl' , 'PO');\n",
    "insert into cv values ( DEFAULT, 'http://purl.obolibrary.org/obo/flopo.owl', 'FLOPO');\t\n",
    "insert into cv values ( DEFAULT, 'http://purl.obolibrary.org/obo/to.owl', 'TO');\n",
    "insert into cv values ( DEFAULT, 'Arabidopsis Phenotype Ontology','APO');\n",
    "\n",
    "------------------cvterm----------------------------\n",
    "\n",
    "insert into cvterm values (DEFAULT, 5, 'Root Lenght', 'a root lenght (FLOPO_0009325) which is part of a primary root (PO_0020127');\n",
    "insert into cvterm values (DEFAULT, 5, 'Root Lenght', 'a root lenght (FLOPO_0009325) which is part of a lateral root (PO_0020121');\n",
    "insert into cvterm values (DEFAULT, 5, 'area', 'an area (PATO_0001323 which is part of the shoot axis (PO_0025029)');\n",
    "insert into cvterm values (DEFAULT, 5, 'area', 'an area (PATO_0001323) which is part of the root (PO_0009005)');\n",
    "insert into cvterm values (DEFAULT, 5, 'distance', 'a distance(PATO_000040) between roots (PO_0009005) and hypocotyl (PO_0020100)');\n",
    "insert into cvterm values (DEFAULT, 4, 'chlorophyll contents', 'Measures the chlorophyll content in a green tissue. Includes both chlorophyll-a and chlorophyll-b. Chlorophyll is the green pigment found in plants.');\n",
    "insert into cvterm values (DEFAULT, 5, 'curvature', 'a curvature (PATO_0001591) which is part of roots (PO_0009005)');\n",
    "\n",
    "------------------features--------------------------\n",
    "\n",
    "insert into features values (DEFAULT, 1, 'PR_lenght', 'APO_000001', 1 );\n",
    "insert into features values (DEFAULT, 1 , 'LR_lenght', 'APO_000002', 2);\n",
    "insert into features values (DEFAULT, 1 ,'ShootArea', 'APO_000003',3);\n",
    "insert into features values (DEFAULT, 1 , 'RootArea', 'APO_000004',4);\n",
    "insert into features values (DEFAULT, 1 , 'DistanceFromHypocotyl', 'APO_000005',5);\n",
    "insert into features values (DEFAULT, 1 , 'Chlorophylle','TO_0000495',6);\n",
    "insert into features values (DEFAULT, 1 , 'Tortuosity', 'APO_000006', 7);"
   ]
  },
  {
   "cell_type": "markdown",
   "metadata": {
    "colab_type": "text",
    "id": "IXDbg-GC4Ar8"
   },
   "source": [
    "## Requêtes"
   ]
  },
  {
   "cell_type": "markdown",
   "metadata": {
    "colab_type": "text",
    "id": "ZNZgL3Pg4Fck"
   },
   "source": [
    "Quelques requêtes ont ensuite été écrites afin de tester la base de données générée. Ces requêtes ont été regroupées dans le script ci-dessous. "
   ]
  },
  {
   "cell_type": "code",
   "execution_count": 0,
   "metadata": {
    "colab": {},
    "colab_type": "code",
    "id": "IgInUPg24F-x"
   },
   "outputs": [],
   "source": [
    "------Recupère l'id des plants ayant un génotype mutant et affiche la longueur de leur racines primaires et l'ontologie associée---------------- \n",
    "\n",
    "select ph.plant_id,ph.PR_lenght, f.name, f.uniquename,p.grouping, ct.definition \n",
    "from phenotype ph , features f, cvterm ct, genotype gt, gene g, plant p \n",
    "where g.gene_id = gt.gene_id and gt.plant_id = p.plant_id and p.plant_id= ph.plant_id and g.est_mutant = TRUE and f.name= 'PR_lenght' and f.type_id = ct.cvterm_id;\n",
    "\n",
    "\n",
    "\n",
    "---------------Compare l'effet des mutations sur l'entrelacement des racines--------------\n",
    "\n",
    "select g.gene_name, count(p.grouping)  \n",
    "from gene g, plant p, genotype gt \n",
    "where g.gene_id = gt.gene_id and gt.plant_id = p.plant_id and p.grouping = 1 group by g.gene_name;\n",
    "\n",
    "\n",
    "\n",
    "\n",
    "-----------Observe le potentiel effet du milieu sur la taille moyenne de l'aire racinaire--------- \n",
    "\n",
    "select m.type, avg(ph.Root_area)\n",
    "from milieu m, boite b, plant p, phenotype ph\n",
    "where m.id_boite = b.id_boite and b.plant_id = p.plant_id and p.plant_id = ph.plant_id \n",
    "group by m.type;\n",
    "\n",
    "-----------------Affiche l'id de tout les individus sauf ceux Col 0-------------------------\n",
    "\n",
    "select p.plant_id from plant p, genotype gt,gene g\n",
    "where g.gene_id = gt.gene_id and gt.plant_id = p.plant_id\n",
    "EXCEPT\n",
    "select gt.plant_id from plant p, gene g , genotype gt\n",
    "where g.gene_id = gt.gene_id and gt.plant_id = p.plant_id and g.gene_name = 'Col_0';\n",
    "\n",
    "----------------Affiche \n",
    "\n",
    "select f.name, f.uniquename,ct.name, ct.definition  from features f, cvterm ct, cv c\n",
    "where c.cv_id = ct.cv_id and ct.cvterm_id = f.type_id and c.definition ='APO';"
   ]
  },
  {
   "cell_type": "markdown",
   "metadata": {
    "colab_type": "text",
    "id": "CCOwez_p5FI2"
   },
   "source": [
    "Ces  requêtes m'ont permis de me rendre compte que certains éléments de la base de donnée auraient mérités à être pensé autrement afin de pouvoir faire des requêtes plus précise et intéressantes au niveau de l'ontologie."
   ]
  },
  {
   "cell_type": "markdown",
   "metadata": {
    "colab_type": "text",
    "id": "0iiF1K6YKhgj"
   },
   "source": [
    "# Conclusion\n"
   ]
  },
  {
   "cell_type": "markdown",
   "metadata": {
    "colab_type": "text",
    "id": "HE4Lo1I5K0N9"
   },
   "source": [
    "Ainsi nous avons été en mesure de générer une base de donnée permettant de faire des requêtes pour la consultation et potentiellement l'interprétation des résultats obtenus par les M1 BFP . Cette base de données permet aussi de consulter les relations d'ontologies des phénotypes mesurés. Cependant cette ontologie n'a pas été implémenté de manière optimale par manque de comprhéension et de temps pour rattraper les erreurs. Les séquences nucléiques des gènes o,t pu être récupéreés depuis le NCBI puis elles ont pu être analysées àl'aide de BioPython pour nous fournir des informations qui auraient pu être utilisées dans notre base de données. "
   ]
  }
 ],
 "metadata": {
  "accelerator": "TPU",
  "colab": {
   "collapsed_sections": [],
   "include_colab_link": true,
   "name": "Projet Outils Bioinfo",
   "provenance": [],
   "version": "0.3.2"
  },
  "kernelspec": {
   "display_name": "Python 3",
   "language": "python",
   "name": "python3"
  },
  "language_info": {
   "codemirror_mode": {
    "name": "ipython",
    "version": 3
   },
   "file_extension": ".py",
   "mimetype": "text/x-python",
   "name": "python",
   "nbconvert_exporter": "python",
   "pygments_lexer": "ipython3",
   "version": "3.7.3"
  }
 },
 "nbformat": 4,
 "nbformat_minor": 1
}
