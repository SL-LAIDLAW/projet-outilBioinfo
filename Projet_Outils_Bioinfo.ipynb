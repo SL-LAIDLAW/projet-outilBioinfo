{
  "nbformat": 4,
  "nbformat_minor": 0,
  "metadata": {
    "colab": {
      "name": "Projet Outils Bioinfo",
      "version": "0.3.2",
      "provenance": [],
      "collapsed_sections": [],
      "include_colab_link": true
    },
    "kernelspec": {
      "name": "python3",
      "display_name": "Python 3"
    },
    "accelerator": "TPU"
  },
  "cells": [
    {
      "cell_type": "markdown",
      "metadata": {
        "id": "view-in-github",
        "colab_type": "text"
      },
      "source": [
        "<a href=\"https://colab.research.google.com/github/SL-LAIDLAW/projet-outilBioinfo/blob/dev/Projet_Outils_Bioinfo.ipynb\" target=\"_parent\"><img src=\"https://colab.research.google.com/assets/colab-badge.svg\" alt=\"Open In Colab\"/></a>"
      ]
    },
    {
      "metadata": {
        "id": "I9tXaxrcF3xh",
        "colab_type": "text"
      },
      "cell_type": "markdown",
      "source": [
        "# Projet de HMSN204\n",
        "_Sean LAIDLAW_, _Mathieu Blaison_"
      ]
    },
    {
      "metadata": {
        "id": "Cn4LlHMCF6rY",
        "colab_type": "text"
      },
      "cell_type": "markdown",
      "source": [
        "### TODO: diagramme de Gantt qui fera une synth`ese des tˆaches effectu´ees et de l’implication de chaque ´etudiant."
      ]
    },
    {
      "metadata": {
        "id": "8d6bMzkGOQy2",
        "colab_type": "text"
      },
      "cell_type": "markdown",
      "source": [
        "Liste des taches et dates (pour faire Gantt après)\n",
        "\n",
        "\n",
        "*  creation du document colab &  planification du projet = mercredi 27 mars\n",
        "*  requete NCBI pour sequences sex1 = Samedi, 06 avril  2019 + lundi 08/apr\n",
        "* writing biopython alignment script mardi 14h-19:40 + 15:40 - 17:00 mercredi\n",
        "* fixing last minute biopython bugs 01-04am jeudi"
      ]
    },
    {
      "metadata": {
        "id": "klJRV24iHyS1",
        "colab_type": "text"
      },
      "cell_type": "markdown",
      "source": [
        "## Traitements Biopython de SEX1"
      ]
    },
    {
      "metadata": {
        "id": "pM35FjxJJbEg",
        "colab_type": "text"
      },
      "cell_type": "markdown",
      "source": [
        "### Obtention des sequences sauvages et mutés, du NCBI"
      ]
    },
    {
      "metadata": {
        "id": "DyW-01BAyTDS",
        "colab_type": "text"
      },
      "cell_type": "markdown",
      "source": [
        "#### Obtention du sequence sauvage"
      ]
    },
    {
      "metadata": {
        "id": "kjnQ9cvMDwHg",
        "colab_type": "code",
        "colab": {
          "base_uri": "https://localhost:8080/",
          "height": 136
        },
        "outputId": "dbb6d520-45b9-4975-b2ed-fce8ae88bfa7"
      },
      "cell_type": "code",
      "source": [
        "!pip install biopython\n",
        "!pip install pandas\n",
        "from Bio import SeqIO \n",
        "from Bio import Entrez"
      ],
      "execution_count": 1,
      "outputs": [
        {
          "output_type": "stream",
          "text": [
            "Requirement already satisfied: biopython in /usr/local/lib/python3.6/dist-packages (1.73)\n",
            "Requirement already satisfied: numpy in /usr/local/lib/python3.6/dist-packages (from biopython) (1.14.6)\n",
            "Requirement already satisfied: pandas in /usr/local/lib/python3.6/dist-packages (0.22.0)\n",
            "Requirement already satisfied: pytz>=2011k in /usr/local/lib/python3.6/dist-packages (from pandas) (2018.9)\n",
            "Requirement already satisfied: python-dateutil>=2 in /usr/local/lib/python3.6/dist-packages (from pandas) (2.5.3)\n",
            "Requirement already satisfied: numpy>=1.9.0 in /usr/local/lib/python3.6/dist-packages (from pandas) (1.14.6)\n",
            "Requirement already satisfied: six>=1.5 in /usr/local/lib/python3.6/dist-packages (from python-dateutil>=2->pandas) (1.11.0)\n"
          ],
          "name": "stdout"
        }
      ]
    },
    {
      "metadata": {
        "id": "acLms62_0yOM",
        "colab_type": "text"
      },
      "cell_type": "markdown",
      "source": [
        "À partir de TAIR, on a obtenu l'identifiant correspondant au *full length cDNA* de la sequence genomique de SEX1. Un requete envers la base de donnée nucleotide du NCBI nous a fourni le fasta de cette sequence."
      ]
    },
    {
      "metadata": {
        "id": "IYn0Q2Roycdi",
        "colab_type": "code",
        "colab": {
          "base_uri": "https://localhost:8080/",
          "height": 54
        },
        "outputId": "1249872d-8a06-41a9-fa43-f2f05ab61716"
      },
      "cell_type": "code",
      "source": [
        "Entrez.email = \"sean.laidlaw@etu.umontpellier.fr\"\n",
        "seqgb  = Entrez.efetch (db=\"nucleotide\",id='NM_001331926.1', rettype='fasta')\n",
        "seqselect = SeqIO.parse(seqgb, \"fasta\")\n",
        "\n",
        "sex1_sauvage = []\n",
        "for sequence in seqselect:\n",
        "    sex1_sauvage = sequence.seq\n",
        "sex1_sauvage\n",
        "print(sex1_sauvage)"
      ],
      "execution_count": 2,
      "outputs": [
        {
          "output_type": "stream",
          "text": [
            "TATCTTCTGCAATTCGTGGTTTGTGAACACAAGAGAAAAAAAAAAAAAAACATAAAAAAGAAAGAAAAATTAAAAAAAGCTAAAATCAACGGTGAGAAGATTCTGTATATAATAAGAAAATATCACCCAAATAAAAAAAAAAGGTGGAGTCCACAGATACCGTCCATCAACGTATCACTGGGCTCTCTTTCTCCGTGCCGTTCCTCCTACGTGCTCGAATAACGATGTGCCACGTGGTGGAATCGAAGGATAAAGTGTCGTTTTTTACTTCGATTACACGTGAGTGTATGTATGTGTGAGTGAGTGAAGAAGAACAAAGAGCGAAGAAACCCCCCAGCACTCACTTCATCCATAAGATCATTCAAATTCTGGGATCTTCTCTCTTTCTCTCATTGTATTCAGTTTCTTCGTCTCGGTTCGATCATCAGATCCGGCAAGTTTGATTCAGTGACAAGAAAGCATGAGTAACTCTGTAGTGCATAACTTACTTAACCGGGGTTTGATTCGTCCTCTTAACTTTGAACATCAAAACAAGCTCAACTCCTCTGTGTACCAAACTTCAACAGCAAATCCGGCTCTTGGCAAGATTGGCAGATCAAAACTTTACGGGAAAGGTCTTAAGCAGGCAGGACGCAGTCTGGTCACTGAAACAGGAGGAAGACCTCTCTCATTTGTTCCACGAGCTGTCCTTGCCATGGATCCTCAGGCAGCCGAGAAATTTAGTCTTGACGGAAATATCGATTTACTGGTTGAAGTCACTTCTACAACTGTAAGAGAAGTAAATATCCAGATAGCTTATACAAGTGACACATTGTTCCTACACTGGGGTGCAATTCTTGACAACAAAGAAAATTGGGTTCTACCTTCTCGCTCTCCGGATAGAACTCAAAACTTCAAGAACAGTGCGCTTAGAACTCCATTTGTGAAATCCGGTGGCAATTCTCACCTTAAACTAGAGATAGATGATCCTGCCATACACGCTATTGAGTTCCTTATATTTGACGAAAGTCGGAACAAATGGTATAAAAATAATGGTCAGAATTTTCATATAAACTTACCAACGGAAAGGAATGTGAAACAAAATGTTTCTGTTCCTGAAGATCTTGTACAGATCCAAGCATATCTTAGATGGGAACGTAAGGGTAAACAAATGTACAACCCTGAGAAAGAGAAGGAGGAGTATGAAGCCGCCCGGACGGAGCTACGGGAGGAAATGATGCGAGGTGCTTCAGTGGAAGATCTCAGAGCAAAGCTGTTGAAGAAAGATAACAGTAATGAATCCCCAAAATCTAATGGGACATCATCCAGTGGACGGGAGGAAAAGAAAAAAGTTTCCAAGCAACCAGAGCGTAAAAAAAATTATAACACTGACAAGATCCAGCGCAAGGGAAGGGACCTGACTAAGCTTATCTATAAGCATGTTGCTGATTTTGTTGAACCAGAATCCAAATCCTCATCTGAACCACGGTCCTTAACAACTCTGGAGATATACGCCAAAGCAAAGGAGGAACAAGAAACCACTCCAGTCTTTAGCAAGAAAACATTCAAGCTTGAAGGCAGTGCGATTTTGGTGTTTGTTACTAAACTTTCCGGAAAGACGAAAATTCATGTGGCAACTGATTTTAAAGAGCCGGTTACCCTTCACTGGGCTTTGTCTCAAAAGGGTGGAGAATGGTTGGACCCACCTTCAGATATACTGCCACCAAACTCTTTGCCAGTACGTGGTGCTGTTGATACAAAACTGACCATCACTTCAACAGATCTTCCTAGTCCGGTTCAAACTTTTGAGCTGGAAATAGAAGGTGACAGCTACAAGGGCATGCCGTTTGTACTCAATGCTGGTGAAAGGTGGATTAAAAATAATGACAGTGACTTTTATGTGGACTTTGCTAAAGAAGAAAAACATGTTCAGAAGGATTATGGCGATGGAAAGGGTACAGCCAAGCATTTACTGGACAAAATCGCAGATTTGGAGAGTGAGGCCCAGAAGTCTTTCATGCATCGATTCAACATTGCAGCAGATCTTGTGGACGAGGCAAAAAGTGCTGGTCAACTGGGCTTTGCAGGGATCCTAGTCTGGATGAGGTTTATGGCTACAAGACAGCTTGTGTGGAACAAAAACTATAATGTTAAGCCAAGGGAGATAAGCAAAGCGCAGGATAGACTGACTGACCTTCTCCAGGACGTTTATGCAAGTTATCCAGAGTACAGAGAACTTTTGCGGATGATAATGTCTACTGTAGGTCGAGGAGGTGAAGGAGATGTCGGGCAACGAATCCGTGACGAAATTCTAGTCATCCAGCGGAAAAATGACTGCAAGGGTGGAATTATGGAGGAATGGCATCAGAAGTTGCATAACAACACTAGTCCAGATGATGTTGTCATCTGTCAGGCATTGATGGATTATATCAAAAGTGACTTTGACTTAAGTGTTTACTGGAAGACCTTGAACGATAATGGCATAACCAAAGAGCGACTCTTAAGTTATGATCGTGCTATACATTCTGAACCAAATTTTAGAGGAGAACAAAAAGACGGTCTTTTGCGTGATCTTGGACACTACATGAGGACTTTAAAGGCTGTTCATTCAGGGGCAGACCTTGAGTCGGCTATACAAAATTGCATGGGCTACCAAGATGACGGTGAAGGTTTCATGGTTGGGGTGCAGATAAATCCTGTATCAGGATTGCCTTCTGGATATCCAGACTTGCTTCGTTTCGTCCTAGAACATGTTGAAGAAAAGAATGTAGAGCCACTTCTTGAGGGTTTGCTTGAAGCTCGTCAAGAGCTAAGGCCACTTCTGCTGAAGTCCCATGACCGCCTCAAGGATCTGTTATTCTTGGACCTCGCTCTTGATTCTACTGTCAGAACAGCGATTGAAAGAGGATATGAGCAATTGAATGATGCTGGACCTGAGAAAATCATGTACTTCATCAGCCTAGTTCTTGAAAATCTTGCCCTCTCTTCAGATGACAATGAAGACCTTATATACTGCTTGAAGGGATGGCAATTTGCCCTCGACATGTGCAAGAGCAAAAAAGATCACTGGGCTCTGTATGCAAAATCTGTTCTTGACAGAAGCCGACTAGCACTGGCAAGCAAAGCTGAGAGGTACCTTGAAATTCTGCAACCATCGGCTGAATATCTTGGATCTTGTCTTGGAGTCGATCAGTCGGCTGTTAGTATATTTACTGAAGAGATCATTCGAGCTGGATCTGCAGCAGCATTGTCGTCACTTGTTAACCGACTTGACCCAGTTCTTAGGAAGACTGCTAACTTGGGAAGTTGGCAGGTTATTAGTCCTGTAGAGGTCGTCGGATATGTCATTGTTGTGGACGAATTGCTCACTGTACAGAATAAAACCTACGATAGACCTACAATTATAGTTGCAAACAGAGTGAGAGGAGAGGAGGAAATCCCTGATGGTGCAGTTGCGGTACTGACACCTGACATGCCGGATGTACTATCTCATGTTTCTGTTCGAGCAAGAAATGGAAAGATCTGCTTTGCCACATGTTTTGATTCTGGTATCTTATCTGACCTCCAAGGAAAAGATGGAAAACTGTTGAGCCTACAACCAACCTCTGCAGATGTAGTCTATAAAGAGGTAAACGATAGTGAGCTTTCGAGTCCAAGTTCAGACAACCTGGAAGATGCCCCTCCAAGTATTTCTTTGGTCAAGAAACAGTTTGCGGGTAGATATGCTATATCATCTGAGGAGTTCACAAGTGACTTGGTTGGTGCTAAATCAAGAAATATCGGGTATCTGAAAGGAAAAGTTCCTTCTTGGGTTGGTATCCCAACTTCAGTTGCGTTGCCATTTGGTGTTTTTGAGAAGGTTATCTCCGAAAAGGCGAATCAGGCGGTGAACGATAAATTGCTAGTATTGAAGAAAACTCTTGATGAGGGAGACCAAGGTGCTCTGAAGGAAATCCGGCAGACACTGTTGGGGCTAGTTGCACCCCCAGAACTGGTTGAAGAACTGAAAAGTACTATGAAAAGTTCTGACATGCCATGGCCGGGTGATGAAGGTGAACAGAGATGGGAGCAAGCTTGGGCAGCCATTAAAAAGGTCTGGGCTTCGAAATGGAACGAGAGAGCATACTTCAGCACGAGGAAAGTAAAACTGGATCATGACTATCTCTGCATGGCTGTTTTGGTCCAAGAAGTCATCAATGCGGATTACGCATTCGTCATTCACACAACTAATCCATCTTCTGGAGATTCATCAGAGATTTATGCCGAGGTGGTCAAAGGCCTTGGGGAAACTCTTGTAGGAGCATATCCCGGTCGGTCTCTGAGTTTCATCTGCAAGAAAAACAACCTTGATTCGCCTCTGGTGTTGGGCTACCCAAGCAAACCGATTGGGCTGTTCATAAGACGTTCAATCATCTTCAGATCTGATTCCAATGGAGAAGATCTTGAAGGTTATGCAGGTGCAGGCCTCTACGACAGTGTACCAATGGACGAGGAAGACCAAGTCGTGCTCGATTACACAACAGATCCTCTGATCACTGACTTGAGCTTCCAGAAAAAGGTTCTCTCAGACATTGCACGCGCTGGAGATGCCATTGAGAAACTCTATGGAACTGCACAGGACATTGAAGGTGTGATCAGAGACGGGAAGCTCTATGTCGTCCAGACACGACCACAAGTGTGATCAAATTCTCTGACCACTTCTTAATGTGTACGTTACGTTTTCTGTCCAGTAAACTCCTTATTTGCTCTATAAGCAAAGAGTATAATACAGCATAAGCATATAGTGGATTACAAAATGTGTAGTACAAAGACATTTGGCATTACCATTAAGATATAAATAAAAAAACTGTTTATTGGAGTTGGAAGTTTCTCCAGCTTTTGCTTCTTGAAGTTGAGTGCAACTGAAAACTGCTTGTCGTTTCACTGGTCGAGCGATATGACTACTTAGTGTTTGGCTTTTGTGAATTAGTGACTCAACTGTATTCCCAATTCAAATTAGGGTCTAAATTGTAATAAAATATAGATAATGTTTCCTTTTTTCCTGAATAATTTTCTTTTAAG\n"
          ],
          "name": "stdout"
        }
      ]
    },
    {
      "metadata": {
        "id": "M4wyFCjVyZui",
        "colab_type": "text"
      },
      "cell_type": "markdown",
      "source": [
        "#### Obtention de la sequence muté"
      ]
    },
    {
      "metadata": {
        "id": "8dOvKpryJdUf",
        "colab_type": "code",
        "outputId": "e44e5120-eb46-4a3b-c392-603ccf376da9",
        "colab": {
          "base_uri": "https://localhost:8080/",
          "height": 54
        }
      },
      "cell_type": "code",
      "source": [
        "search_string = \"SEX1[Gene] AND Arabidopsis thaliana[Organism]\"\n",
        "req = Entrez.esearch(db= \"nucleotide\", term=search_string)  # ID of fasta of SEX1 gene\n",
        "res = Entrez.read(req)\n",
        "res"
      ],
      "execution_count": 3,
      "outputs": [
        {
          "output_type": "execute_result",
          "data": {
            "text/plain": [
              "DictElement({'Count': '5', 'RetMax': '5', 'RetStart': '0', 'IdList': ['1063682343', '1063682341', '334182442', '240254421', '332189094'], 'TranslationSet': [DictElement({'From': 'Arabidopsis thaliana[Organism]', 'To': '\"Arabidopsis thaliana\"[Organism]'}, attributes={})], 'TranslationStack': [DictElement({'Term': 'SEX1[Gene]', 'Field': 'Gene', 'Count': '8', 'Explode': 'N'}, attributes={}), DictElement({'Term': '\"Arabidopsis thaliana\"[Organism]', 'Field': 'Organism', 'Count': '2696552', 'Explode': 'Y'}, attributes={}), 'AND'], 'QueryTranslation': 'SEX1[Gene] AND \"Arabidopsis thaliana\"[Organism]'}, attributes={})"
            ]
          },
          "metadata": {
            "tags": []
          },
          "execution_count": 3
        }
      ]
    },
    {
      "metadata": {
        "id": "1ngkHoIIwgcx",
        "colab_type": "text"
      },
      "cell_type": "markdown",
      "source": [
        "Ici on voit que les seules fasta disponible sont des variants d'epissage alternative, et donc vu leurs introns n'aligneront pas bien avec notre sequence sauvage.\n",
        "\n",
        "Importons alors, un version du SEX1 sauvage modifié afin de presenter 1/4 des SNP enregistré sur dbSNP pour ce gène:"
      ]
    },
    {
      "metadata": {
        "id": "6fXvEugyZfm2",
        "colab_type": "code",
        "colab": {
          "base_uri": "https://localhost:8080/",
          "height": 34
        },
        "outputId": "710e9cce-b324-40b7-c0ae-760f92b3c3ba"
      },
      "cell_type": "code",
      "source": [
        "import urllib.request  # the lib that handles the url stuff\n",
        "from Bio.Seq import Seq\n",
        "data = urllib.request.urlopen('https://raw.githubusercontent.com/SL-LAIDLAW/projet-outilBioinfo/dev/sex1_mutant_SNP.fasta') # it's a file like object and works just like a file\n",
        "sex1_mutant = data.read()\n",
        "sex1_mutant = sex1_mutant.decode('utf8').split('\\n')[1:]\n",
        "sex1_mutant = \"\".join(sex1_mutant)\n",
        "\n",
        "sex1_mutant = Seq(sex1_mutant)\n",
        "sex1_mutant"
      ],
      "execution_count": 41,
      "outputs": [
        {
          "output_type": "execute_result",
          "data": {
            "text/plain": [
              "Seq('TATCTTCTGCAATTCGTGGTTTGTGAACACAAGAGAAAAAAAAAAAAAAACATA...AAG')"
            ]
          },
          "metadata": {
            "tags": []
          },
          "execution_count": 41
        }
      ]
    },
    {
      "metadata": {
        "id": "IHXayGwfJRm-",
        "colab_type": "text"
      },
      "cell_type": "markdown",
      "source": [
        "## Alignement des séquences associées aux gènes sauvages/mutés"
      ]
    },
    {
      "metadata": {
        "id": "Tfj0bgKE0deU",
        "colab_type": "text"
      },
      "cell_type": "markdown",
      "source": [
        "### un alignement par paire global des séquences d’ARNm"
      ]
    },
    {
      "metadata": {
        "id": "LUlSZdPPum9u",
        "colab_type": "text"
      },
      "cell_type": "markdown",
      "source": [
        "Pour aligner nos sequences sauvages avec les mutants nous avons ecrit la fonction AlignSeqs qui effectue un alignement globale en utilisant l'algorithme Needleman–Wunsch."
      ]
    },
    {
      "metadata": {
        "id": "mMothTUXGv9C",
        "colab_type": "code",
        "colab": {}
      },
      "cell_type": "code",
      "source": [
        "import pandas as pd"
      ],
      "execution_count": 0,
      "outputs": []
    },
    {
      "metadata": {
        "id": "a-I6VY5cGRHS",
        "colab_type": "code",
        "colab": {}
      },
      "cell_type": "code",
      "source": [
        "def InitializeTable(SeqX,SeqY):\n",
        "  # intitialise dataframe holding scores\n",
        "  df = pd.DataFrame(index=SeqY, columns=SeqX)\n",
        "  col_names = list(df.keys())\n",
        "  row_names = list(df.index)\n",
        "\n",
        "  # initiate table\n",
        "  df.iloc[0,0] = 0\n",
        "  for i in range(len(SeqY)):\n",
        "    df.iloc[i,0] = i * -1  # set row 0 to be -1,-2,-3\n",
        "  for i in range(len(SeqX)):\n",
        "    df.iloc[0,i] = i * -1  # set col 0 to be -1,-2,-3\n",
        "  return df"
      ],
      "execution_count": 0,
      "outputs": []
    },
    {
      "metadata": {
        "id": "Rs76f3PaGSgs",
        "colab_type": "code",
        "colab": {}
      },
      "cell_type": "code",
      "source": [
        "def PopulateTable(seqX,seqY,df):     \n",
        "  df_dir = df.copy()\n",
        "  # populate table\n",
        "  for y in range(1,len(seqY)):\n",
        "    for x in range(1,len(seqX)):\n",
        "      current_score = -1000\n",
        "      \n",
        "      match_score = 1\n",
        "      mismatch_score = -1\n",
        "\n",
        "      if str(seqX[x]) == str(seqY[y]):\n",
        "        current_score = match_score\n",
        "      else:\n",
        "        current_score = mismatch_score\n",
        "\n",
        "      df.iloc[y,x] = current_score\n",
        "\n",
        "      top_left_score = ((df.iloc[y-1,x-1]), '\\x5C')\n",
        "      top_score = ((df.iloc[y-1,x]), '\\x7C')\n",
        "      left_score = ((df.iloc[y,x-1]), '\\x3C')\n",
        "\n",
        "      best_score = top_score[0]\n",
        "      best_direction = top_score[1]\n",
        "      score_list = [top_left_score, top_score, left_score]\n",
        "      for score_item in score_list:\n",
        "        if int(score_item[0]) > int(best_score):\n",
        "          best_direction = score_item[1]\n",
        "          best_score = score_item[0]\n",
        "\n",
        "        elif int(score_item[0]) == int(best_score):\n",
        "          if not best_direction.__contains__(score_item[1]):\n",
        "            best_direction += score_item[1]\n",
        "\n",
        "      # delete score objects from memory as this caused issues\n",
        "      for score in score_list:\n",
        "        del score\n",
        "\n",
        "      best_score = int(best_score)\n",
        "      best_score += current_score\n",
        "\n",
        "      df.iloc[y,x] = best_score\n",
        "      df_dir.iloc[y,x] = best_direction\n",
        "  return df, df_dir  "
      ],
      "execution_count": 0,
      "outputs": []
    },
    {
      "metadata": {
        "id": "91mEYJ0nGXcy",
        "colab_type": "code",
        "colab": {}
      },
      "cell_type": "code",
      "source": [
        "def Traceback(df,df_dir):\n",
        "    # Start traceback\n",
        "    my_alignment_x =[]\n",
        "    my_alignment_y =[]\n",
        "    bottom_right_y = list(df.shape)[0] -1\n",
        "    bottom_right_x = list(df.shape)[1] -1\n",
        "\n",
        "    x = bottom_right_x\n",
        "    y = x - (bottom_right_x - bottom_right_y)\n",
        "    while x != 0:\n",
        "      current_coordinates = [y,x]\n",
        "      top_coordinates = [y-1,x]\n",
        "      left_coordinates = [y,x-1]\n",
        "      top_left_coordinates = [y-1,x-1]\n",
        "\n",
        "      current_nucleotide_x = df.keys()[x]\n",
        "      current_nucleotide_y = df.index[y]\n",
        "      current_direction = df_dir.iloc[y,x]\n",
        "\n",
        "      if current_direction.__contains__('\\\\'):\n",
        "        # move coordinates to top_left\n",
        "        x = top_left_coordinates[1]\n",
        "        y = top_left_coordinates[0]\n",
        "        my_alignment_x.append(current_nucleotide_x)\n",
        "        my_alignment_y.append(current_nucleotide_y)\n",
        "\n",
        "      elif current_direction.__contains__('|'):\n",
        "        # move coordinates to top\n",
        "        x = top_coordinates[1]\n",
        "        y = top_coordinates[0]\n",
        "        my_alignment_x.append('-')\n",
        "        my_alignment_y.append(current_nucleotide_y)\n",
        "\n",
        "      elif current_direction.__contains__('<'):\n",
        "        # move coordinates to left\n",
        "        x = left_coordinates[1]\n",
        "        y = left_coordinates[0]\n",
        "        my_alignment_x.append(current_nucleotide_x)\n",
        "        my_alignment_y.append('-')\n",
        "        \n",
        "      return my_alignment_x, my_alignment_y"
      ],
      "execution_count": 0,
      "outputs": []
    },
    {
      "metadata": {
        "id": "NJJo9uZdGbe3",
        "colab_type": "code",
        "colab": {}
      },
      "cell_type": "code",
      "source": [
        "def GetVariations(my_alignment_x, my_alignment_y):\n",
        "  points_de_variations = set()\n",
        "  for i in range(len(my_alignment_x)):\n",
        "    x = my_alignment_x[i]\n",
        "    y = my_alignment_y[i]\n",
        "\n",
        "    if x != y:\n",
        "      points_de_variations.add(i)\n",
        "  return list(points_de_variations)"
      ],
      "execution_count": 0,
      "outputs": []
    },
    {
      "metadata": {
        "id": "XourqqJz6gTB",
        "colab_type": "code",
        "colab": {}
      },
      "cell_type": "code",
      "source": [
        "def AlignSeqs(SeqX,SeqY):\n",
        "  SeqX = list(\" \" + SeqX)\n",
        "  SeqY = list(\" \" + SeqY)\n",
        "\n",
        "  match_score = 1\n",
        "  mismatch_score = -1\n",
        "  indel_score = -1\n",
        "  \n",
        "  penaltyArgs=[match_score, mismatch_score, indel_score]\n",
        "\n",
        "  df = InitializeTable(SeqX,SeqY)\n",
        "\n",
        "  df, df_dir = PopulateTableJit(SeqX,SeqY,df)\n",
        "\n",
        "\n",
        "  my_alignment_x, my_alignment_y = Traceback(df,df_dir)\n",
        "\n",
        "  my_alignment_x.reverse()\n",
        "  my_alignment_y.reverse()\n",
        "\n",
        "  points_de_variations = GetVariations(my_alignment_x, my_alignment_y)\n",
        "\n",
        "\n",
        "  return my_alignment_x, my_alignment_y, points_de_variations"
      ],
      "execution_count": 0,
      "outputs": []
    },
    {
      "metadata": {
        "id": "Ucz2s3Wrh8sm",
        "colab_type": "text"
      },
      "cell_type": "markdown",
      "source": [
        "Cet étape prends beaucoup de temps donc est commenté pour l'instant"
      ]
    },
    {
      "metadata": {
        "id": "2024QNyL2IVf",
        "colab_type": "code",
        "colab": {}
      },
      "cell_type": "code",
      "source": [
        "# result_dict = {}\n",
        "# alignment_for_mutant, alignment_for_sauvage, variations = AlignSeqs(sex1_mutant, sex1_sauvage)\n",
        "# result_dict[mutant] = [alignment_for_mutant, alignment_for_sauvage, variations]\n",
        "\n",
        "%store result_dict"
      ],
      "execution_count": 0,
      "outputs": []
    },
    {
      "metadata": {
        "id": "jRIxcNmg0e3N",
        "colab_type": "text"
      },
      "cell_type": "markdown",
      "source": [
        "### donner les positions des variations sauvage/muté"
      ]
    },
    {
      "metadata": {
        "id": "pfB_Rb0a0zUz",
        "colab_type": "code",
        "colab": {}
      },
      "cell_type": "code",
      "source": [
        "%store -r result_dict  # loads saved result from cache instead of re-running command\n",
        "\n",
        "for key in result_dict.keys():\n",
        "  result_list = result_dict[key]\n",
        "  variants = result_list[2]\n",
        "  for var in variants:\n",
        "    print(var)"
      ],
      "execution_count": 0,
      "outputs": []
    },
    {
      "metadata": {
        "id": "D6cPw4Xe00aL",
        "colab_type": "text"
      },
      "cell_type": "markdown",
      "source": [
        "### taux de GC / traduction pour obtenir les séquences protéiques"
      ]
    },
    {
      "metadata": {
        "id": "Tj71epn-0ib2",
        "colab_type": "code",
        "colab": {
          "base_uri": "https://localhost:8080/",
          "height": 51
        },
        "outputId": "b5c948d9-9cf6-4514-fc3b-0ce9460b974a"
      },
      "cell_type": "code",
      "source": [
        "from Bio.SeqUtils import GC\n",
        "from Bio.Seq import Seq\n",
        "\n",
        "taux_GC_sauvage = GC(sex1_sauvage)\n",
        "print(taux_GC_sauvage)\n",
        "taux_GC_mutant = GC(sex1_mutant)\n",
        "print(taux_GC_mutant)"
      ],
      "execution_count": 49,
      "outputs": [
        {
          "output_type": "stream",
          "text": [
            "42.57936507936508\n",
            "42.57820282924885\n"
          ],
          "name": "stdout"
        }
      ]
    },
    {
      "metadata": {
        "id": "24hGHJfn4lvR",
        "colab_type": "code",
        "colab": {
          "base_uri": "https://localhost:8080/",
          "height": 71
        },
        "outputId": "55aca1b1-ae72-40f3-b04f-54192a78cbda"
      },
      "cell_type": "code",
      "source": [
        "from Bio import SeqIO\n",
        "from Bio import AlignIO\n",
        "from Bio.Seq import Seq\n",
        "from Bio.SeqUtils import GC\n",
        "from Bio import SeqIO\n",
        "from Bio.SeqRecord import SeqRecord\n",
        "\n",
        "\n",
        "trans_sauvage = sex1_sauvage.translate()\n",
        "trans_mutant = sex1_mutant.translate()\n",
        "\n",
        "print(trans_sauvage)\n",
        "print(trans_mutant)"
      ],
      "execution_count": 50,
      "outputs": [
        {
          "output_type": "stream",
          "text": [
            "YLLQFVVCEHKRKKKKNIKKKEKLKKAKINGEKILYIIRKYHPNKKKRWSPQIPSINVSLGSLSPCRSSYVLE*RCATWWNRRIKCRFLLRLHVSVCMCE*VKKNKERRNPPALTSSIRSFKFWDLLSFSHCIQFLRLGSIIRSGKFDSVTRKHE*LCSA*LT*PGFDSSS*L*TSKQAQLLCVPNFNSKSGSWQDWQIKTLRERS*AGRTQSGH*NRRKTSLICSTSCPCHGSSGSREI*S*RKYRFTG*SHFYNCKRSKYPDSLYK*HIVPTLGCNS*QQRKLGSTFSLSG*NSKLQEQCA*NSICEIRWQFSP*TRDR*SCHTRY*VPYI*RKSEQMV*K*WSEFSYKLTNGKECETKCFCS*RSCTDPSIS*MGT*G*TNVQP*EREGGV*SRPDGATGGNDARCFSGRSQSKAVEER*Q**IPKI*WDIIQWTGGKEKSFQATRA*KKL*H*QDPAQGKGPD*AYL*ACC*FC*TRIQILI*TTVLNNSGDIRQSKGGTRNHSSL*QENIQA*RQCDFGVCY*TFRKDENSCGN*F*RAGYPSLGFVSKGWRMVGPTFRYTATKLFASTWCC*YKTDHHFNRSS*SGSNF*AGNRR*QLQGHAVCTQCW*KVD*K**Q*LLCGLC*RRKTCSEGLWRWKGYSQAFTGQNRRFGE*GPEVFHASIQHCSRSCGRGKKCWSTGLCRDPSLDEVYGYKTACVEQKL*C*AKGDKQSAG*TD*PSPGRLCKLSRVQRTFADDNVYCRSRR*RRCRATNP*RNSSHPAEK*LQGWNYGGMASEVA*QH*SR*CCHLSGIDGLYQK*L*LKCLLEDLER*WHNQRATLKL*SCYTF*TKF*RRTKRRSFA*SWTLHEDFKGCSFRGRP*VGYTKLHGLPR*R*RFHGWGADKSCIRIAFWISRLASFRPRTC*RKECRATS*GFA*SSSRAKATSAEVP*PPQGSVILGPRS*FYCQNSD*KRI*AIE*CWT*ENHVLHQPSS*KSCPLFR*Q*RPYILLEGMAICPRHVQEQKRSLGSVCKICS*QKPTSTGKQS*EVP*NSATIG*ISWILSWSRSVGC*YIY*RDHSSWICSSIVVTC*PT*PSS*EDC*LGKLAGY*SCRGRRICHCCGRIAHCTE*NLR*TYNYSCKQSERRGGNP*WCSCGTDT*HAGCTISCFCSSKKWKDLLCHMF*FWYLI*PPRKRWKTVEPTTNLCRCSL*RGKR**AFESKFRQPGRCPSKYFFGQETVCG*ICYII*GVHK*LGWC*IKKYRVSERKSSFLGWYPNFSCVAIWCF*EGYLRKGESGGER*IASIEENS**GRPRCSEGNPADTVGASCTPRTG*RTEKYYEKF*HAMAG**R*TEMGASLGSH*KGLGFEMERESILQHEESKTGS*LSLHGCFGPRSHQCGLRIRHSHN*SIFWRFIRDLCRGGQRPWGNSCRSISRSVSEFHLQEKQP*FASGVGLPKQTDWAVHKTFNHLQI*FQWRRS*RLCRCRPLRQCTNGRGRPSRARLHNRSSDH*LELPEKGSLRHCTRWRCH*ETLWNCTGH*RCDQRREALCRPDTTTSVIKFSDHFLMCTLRFLSSKLLICSISKEYNTA*AYSGLQNV*YKDIWHYH*DINKKTVYWSWKFLQLLLLEVECN*KLLVVSLVERYDYLVFGFCELVTQLYSQFKLGSKL**NIDNVSFFPE*FSFK\n",
            "YLLQFVVCEHKRKKKKNIKKKEKLKKAKINGEKILYIIRKYHPNKKKRWSPQIPSINVSLGSLSPCRSSYVLE*RCATWWNRRIKCRFLLRLHVSVCMCE*VKKNKERRNPPALTSSIRSFKFWDLLSFSHCIQFLRLGSIIRSGKFDSVTRKHE*LCSA*LT*PGFDSSS*L*T*NKLNSSVYQTSTANPALGKIGRSKLYGKGLSRQDAVWSLKQEKTSLICSTSCPCHGSSGSREI*S*RKYRFTG*SHFYNCKRSKIQIAYTSDTLFLHWGAILDNKENWVYLLALRIELKTSRTVRLELHL*NPVAILTLN*R*MILPYTLLSSLYLTKVEQMV*K*WSEFSYKLTNGKECETKCFCS*RSCTDPSIS*MGTRVNKCTTLRKRRRSMKPPGRSYGRK*CEVLQWKISEQSC*RKITVMNPQNLMGHHPWTGGKEKSFQATRA*KKL*H*QDPAQGKGPD*AYL*ACC*FC*TRIQILTEPRSLTTLEIYAKAKEEQETTPVFSKKTFKLEGSAILVFVTKLPERRKFMWQLILKSRLPFTGLVSKGWRMVGPTFRYTATKLFASTWCC*YKTDHHFNRSS*PVQTFELEIEGDSYKGMPFVLNAGERWIKNNEVTFMWTLLKKKNMFRRIMAMERVQPSIYWTKSQIWRVRPRSLSCIDSTLQQILWTRQKVLVNWALQGSSLDEVYGYKTACVEQKL*C*AKGDKQSAG*TD*PSPGRLCKLSRVQRTFADDNVYCR*GGEGDVGQRIRDEILVIQRKNDCKGGIMEEWHQKLHNNTSPDDVVICQALMDYIKSDFDLSVYWKTLNDNGITKERLLSYDRAIHSEPNFRGEQKDGLLRDLGHYMRTLKAVHSGADLESAIQNCMGYQDDGEGFMVGVQINPVSGLPSGYPDLLRFVLELLKKRM*SHFLRVCLKLVKS*GPSAEVP*PPQGSVILGPRS*FYCQNSD*KRI*AIE*CWT*ENHVLHQPSS*KSCPLFR*Q*RPYILLEGMAICPRLCKSKKDHWALYAKSVLDRSRLALASKAERYLEILQPSAEYLGSCLGSISRLLVYLLKRSFELDLQQHCRHLLTDLTQFLGRLLTWEVGRLLVL*RSSDMSLLWTNCSLYR*NLR*TYNYSCKQSERRGGNP*WCSCGTDT*HAGCTISCFCSSKKWKDLLCHMF*FWYLI*PPRKRWKTVEPTTNLCRCSL*RGKR**AFESKFRQPGRCPSKYFFGQETVCG*ICYII*GVHK*LGWC*IKKYRVSERKSSFLGWYPNFSCVAIWCF*EGYLRKGESGGER*IASIEENS**GRPRCSEGNPADTVGASCTPRTG*RTEKYYEKF*HAMAG**R*TEMGASLGSH*KGLGFEMERESILQHEESKTGS*LSLHGCFGPRSHQCGLRIRHSHN*SIFWRFIRDLCRGGQRPWGNSCRSISRSVSEFHLQEKQP*FASGVGLPKQTDWAVHKTFNHLQI*FQWRRS*RLCRCRPLRQCTNGRGRPSRARLHNRSSDH*LELPEKGSLRHCTRWRCH*ETLWNCTGH*RCDQRREALCRPDTTTSVIKFSDHFLMCTLRFLSSKLLICSISKEYNTA*AYSGLQNV*YKDIWHYH*DINKKTVYWSWKFLQLLLLEVECN*KLLVVSLVERYDYLVFGFCELVTQLYSQFKLGSKL**NIDNVSFFPE*FSFK\n"
          ],
          "name": "stdout"
        }
      ]
    },
    {
      "metadata": {
        "id": "X1huvEa5Dv4W",
        "colab_type": "text"
      },
      "cell_type": "markdown",
      "source": [
        "# Base de données"
      ]
    },
    {
      "metadata": {
        "id": "sL25Ese7X1Qi",
        "colab_type": "code",
        "colab": {}
      },
      "cell_type": "code",
      "source": [
        ""
      ],
      "execution_count": 0,
      "outputs": []
    },
    {
      "metadata": {
        "id": "CIXoEEVLEWO0",
        "colab_type": "text"
      },
      "cell_type": "markdown",
      "source": [
        "## Reflection sur le type de base de données"
      ]
    },
    {
      "metadata": {
        "id": "6eRl6EBaEaNG",
        "colab_type": "text"
      },
      "cell_type": "markdown",
      "source": [
        "On a eu le choix d’un des SGBD vu ce semestre : chado/postgresql (module phenotype), relationnel seul (oracle, postgresqlou mysql), neo4j, couchdb, triplestore jena/rdf. \n",
        "\n",
        "On a choisi d'eviter les base de données NoSQL car nous avons plus d'experience avec ceux là. \n",
        "\n",
        "Notre choix s'est ainsi  porté sur la base de données Chado. Celle-ci est conçue spécialement pour gérer les représentations complexes de données biologiques."
      ]
    },
    {
      "metadata": {
        "id": "K41fxSetDz9m",
        "colab_type": "text"
      },
      "cell_type": "markdown",
      "source": [
        "## Modelisation de la base de données"
      ]
    },
    {
      "metadata": {
        "id": "MlL_6PJtHjNB",
        "colab_type": "text"
      },
      "cell_type": "markdown",
      "source": [
        "## Implantation de la base de données et peuplement"
      ]
    },
    {
      "metadata": {
        "id": "mzBJmNDvzCCq",
        "colab_type": "code",
        "colab": {}
      },
      "cell_type": "code",
      "source": [
        "from Bio import SeqIO\n",
        "import pandas as pd"
      ],
      "execution_count": 0,
      "outputs": []
    },
    {
      "metadata": {
        "id": "kG1ZVskc1xo1",
        "colab_type": "code",
        "colab": {}
      },
      "cell_type": "code",
      "source": [
        "df = pd.read_csv(\"https://raw.githubusercontent.com/SL-LAIDLAW/projet-outilBioinfo/master/Data_Projet_Entete.csv\",sep=\";\")\n",
        "df['Mutant'] = False\n",
        "df['Mutant'].loc[df['Genotype'] != \"Col_0\"] = True\n",
        "df.loc[df['Mutant'] == True]"
      ],
      "execution_count": 0,
      "outputs": []
    },
    {
      "metadata": {
        "id": "pU8CxuMK2TEe",
        "colab_type": "code",
        "colab": {}
      },
      "cell_type": "code",
      "source": [
        "cov = df.cov()\n",
        "cov"
      ],
      "execution_count": 0,
      "outputs": []
    }
  ]
}