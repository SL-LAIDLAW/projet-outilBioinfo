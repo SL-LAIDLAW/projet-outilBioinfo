{
  "nbformat": 4,
  "nbformat_minor": 0,
  "metadata": {
    "colab": {
      "name": "Projet Outils Bioinfo",
      "version": "0.3.2",
      "provenance": [],
      "collapsed_sections": [],
      "include_colab_link": true
    },
    "kernelspec": {
      "name": "python3",
      "display_name": "Python 3"
    }
  },
  "cells": [
    {
      "cell_type": "markdown",
      "metadata": {
        "id": "view-in-github",
        "colab_type": "text"
      },
      "source": [
        "<a href=\"https://colab.research.google.com/github/SL-LAIDLAW/projet-outilBioinfo/blob/master/Projet_Outils_Bioinfo.ipynb\" target=\"_parent\"><img src=\"https://colab.research.google.com/assets/colab-badge.svg\" alt=\"Open In Colab\"/></a>"
      ]
    },
    {
      "metadata": {
        "id": "I9tXaxrcF3xh",
        "colab_type": "text"
      },
      "cell_type": "markdown",
      "source": [
        "# Projet de HMSN204\n",
        "_Sean LAIDLAW_, _Mathieu Blaison_"
      ]
    },
    {
      "metadata": {
        "id": "Cn4LlHMCF6rY",
        "colab_type": "text"
      },
      "cell_type": "markdown",
      "source": [
        "### TODO: diagramme de Gantt qui fera une synth`ese des tˆaches effectu´ees et de l’implication de chaque ´etudiant."
      ]
    },
    {
      "metadata": {
        "id": "8d6bMzkGOQy2",
        "colab_type": "text"
      },
      "cell_type": "markdown",
      "source": [
        "Liste des taches et dates (pour faire Gantt après)\n",
        "\n",
        "\n",
        "*  creation du document colab &  planification du projet = mercredi 27 mars\n",
        "*  requete NCBI pour sequences sex1 = Samedi, 06 avril  2019 + lundi 08/apr\n",
        "\n"
      ]
    },
    {
      "metadata": {
        "id": "klJRV24iHyS1",
        "colab_type": "text"
      },
      "cell_type": "markdown",
      "source": [
        "## Traitements Biopython de SEX1"
      ]
    },
    {
      "metadata": {
        "id": "pM35FjxJJbEg",
        "colab_type": "text"
      },
      "cell_type": "markdown",
      "source": [
        "### Obtention des sequences sauvages et mutés, du NCBI"
      ]
    },
    {
      "metadata": {
        "id": "kjnQ9cvMDwHg",
        "colab_type": "code",
        "colab": {}
      },
      "cell_type": "code",
      "source": [
        "!pip install biopython\n",
        "from Bio import SeqIO \n",
        "from Bio import Entrez"
      ],
      "execution_count": 0,
      "outputs": []
    },
    {
      "metadata": {
        "id": "8dOvKpryJdUf",
        "colab_type": "code",
        "colab": {}
      },
      "cell_type": "code",
      "source": [
        "Entrez.email = \"sean.laidlaw@etu.umontpellier.fr\"\n",
        "search_string = \"SEX1[Gene] AND Arabidopsis thaliana[Organism]\"\n",
        "req = Entrez.esearch(db= \"nucleotide\", term=search_string)  # ID of fasta of SEX1 gene\n",
        "res = Entrez.read(req)\n",
        "res"
      ],
      "execution_count": 0,
      "outputs": []
    },
    {
      "metadata": {
        "id": "2On-kui4Du8f",
        "colab_type": "code",
        "outputId": "b0a90367-3094-4569-e9af-f53a60de1795",
        "colab": {
          "base_uri": "https://localhost:8080/",
          "height": 107
        }
      },
      "cell_type": "code",
      "source": [
        "sex1_id = res[\"IdList\"]\n",
        "req.close()\n",
        "seqgb  = Entrez.efetch (db=\"nucleotide\",id=sex1_id, rettype='fasta')\n",
        "seqselect = SeqIO.parse(seqgb, \"fasta\")\n",
        "\n",
        "sex1_variants = []\n",
        "for sequence in seqselect:\n",
        "    sex1_variants.append(sequence.seq)\n",
        "sex1_variants"
      ],
      "execution_count": 0,
      "outputs": [
        {
          "output_type": "execute_result",
          "data": {
            "text/plain": [
              "[Seq('CACAGATACCGTCCATCAACGTATCACTGGGCTCTCTTTCTCCGTGCCGTTCCT...ATT', SingleLetterAlphabet()),\n",
              " Seq('TATCTTCTGCAATTCGTGGTTTGTGAACACAAGAGAAAAAAAAAAAAAAACATA...AAG', SingleLetterAlphabet()),\n",
              " Seq('TATCTTCTGCAATTCGTGGTTTGTGAACACAAGAGAAAAAAAAAAAAAAACATA...TGG', SingleLetterAlphabet()),\n",
              " Seq('CCCTAAACCCTAAACCCTAAACCCTAAACCTCTGAATCCTTAATCCCTAAATCC...GGG', SingleLetterAlphabet()),\n",
              " Seq('CCCTAAACCCTAAACCCTAAACCCTAAACCTCTGAATCCTTAATCCCTAAATCC...GGG', SingleLetterAlphabet())]"
            ]
          },
          "metadata": {
            "tags": []
          },
          "execution_count": 17
        }
      ]
    },
    {
      "metadata": {
        "id": "XourqqJz6gTB",
        "colab_type": "code",
        "outputId": "394ae657-1ebd-47f7-f7d0-042544675f0d",
        "colab": {
          "base_uri": "https://localhost:8080/",
          "height": 332
        }
      },
      "cell_type": "code",
      "source": [
        "def AlignSeqs(seqA, seqB):\n",
        "    seqAlen = len(seqA)\n",
        "    seqBlen = len(seqB)\n",
        "    \n",
        "    if seqA < seqB:\n",
        "      smallest_seqlen = seqA\n",
        "    else:\n",
        "      smallest_seqlen = seqB\n",
        "      \n",
        "    seqA = seqA[:smallest_seqlen]\n",
        "    seqB = seqB[:smallest_seqlen]\n",
        "    \n",
        "    df = pd.DataFrame()\n",
        "    for i in range(0,smallest_seqlen):\n",
        "      if seqA[i] == seqB[i]:\n",
        "        df[i+1][i+1] = df[i][i]\n",
        "      \n",
        "AlignSeqs(sex1_variants[0].__str__() ,sex1_variants[1].__str__())"
      ],
      "execution_count": 0,
      "outputs": [
        {
          "output_type": "error",
          "ename": "TypeError",
          "evalue": "ignored",
          "traceback": [
            "\u001b[0;31m---------------------------------------------------------------------------\u001b[0m",
            "\u001b[0;31mTypeError\u001b[0m                                 Traceback (most recent call last)",
            "\u001b[0;32m<ipython-input-30-6c17dc889926>\u001b[0m in \u001b[0;36m<module>\u001b[0;34m()\u001b[0m\n\u001b[1;32m     16\u001b[0m         \u001b[0mdf\u001b[0m\u001b[0;34m[\u001b[0m\u001b[0mi\u001b[0m\u001b[0;34m+\u001b[0m\u001b[0;36m1\u001b[0m\u001b[0;34m]\u001b[0m\u001b[0;34m[\u001b[0m\u001b[0mi\u001b[0m\u001b[0;34m+\u001b[0m\u001b[0;36m1\u001b[0m\u001b[0;34m]\u001b[0m \u001b[0;34m=\u001b[0m \u001b[0mdf\u001b[0m\u001b[0;34m[\u001b[0m\u001b[0mi\u001b[0m\u001b[0;34m]\u001b[0m\u001b[0;34m[\u001b[0m\u001b[0mi\u001b[0m\u001b[0;34m]\u001b[0m\u001b[0;34m\u001b[0m\u001b[0;34m\u001b[0m\u001b[0m\n\u001b[1;32m     17\u001b[0m \u001b[0;34m\u001b[0m\u001b[0m\n\u001b[0;32m---> 18\u001b[0;31m \u001b[0mAlignSeqs\u001b[0m\u001b[0;34m(\u001b[0m\u001b[0msex1_variants\u001b[0m\u001b[0;34m[\u001b[0m\u001b[0;36m0\u001b[0m\u001b[0;34m]\u001b[0m\u001b[0;34m.\u001b[0m\u001b[0m__str__\u001b[0m\u001b[0;34m(\u001b[0m\u001b[0;34m)\u001b[0m \u001b[0;34m,\u001b[0m\u001b[0msex1_variants\u001b[0m\u001b[0;34m[\u001b[0m\u001b[0;36m1\u001b[0m\u001b[0;34m]\u001b[0m\u001b[0;34m.\u001b[0m\u001b[0m__str__\u001b[0m\u001b[0;34m(\u001b[0m\u001b[0;34m)\u001b[0m\u001b[0;34m)\u001b[0m\u001b[0;34m\u001b[0m\u001b[0;34m\u001b[0m\u001b[0m\n\u001b[0m",
            "\u001b[0;32m<ipython-input-30-6c17dc889926>\u001b[0m in \u001b[0;36mAlignSeqs\u001b[0;34m(seqA, seqB)\u001b[0m\n\u001b[1;32m      8\u001b[0m       \u001b[0msmallest_seqlen\u001b[0m \u001b[0;34m=\u001b[0m \u001b[0mseqB\u001b[0m\u001b[0;34m\u001b[0m\u001b[0;34m\u001b[0m\u001b[0m\n\u001b[1;32m      9\u001b[0m \u001b[0;34m\u001b[0m\u001b[0m\n\u001b[0;32m---> 10\u001b[0;31m     \u001b[0mseqA\u001b[0m \u001b[0;34m=\u001b[0m \u001b[0mseqA\u001b[0m\u001b[0;34m[\u001b[0m\u001b[0;34m:\u001b[0m\u001b[0msmallest_seqlen\u001b[0m\u001b[0;34m]\u001b[0m\u001b[0;34m\u001b[0m\u001b[0;34m\u001b[0m\u001b[0m\n\u001b[0m\u001b[1;32m     11\u001b[0m     \u001b[0mseqB\u001b[0m \u001b[0;34m=\u001b[0m \u001b[0mseqB\u001b[0m\u001b[0;34m[\u001b[0m\u001b[0;34m:\u001b[0m\u001b[0msmallest_seqlen\u001b[0m\u001b[0;34m]\u001b[0m\u001b[0;34m\u001b[0m\u001b[0;34m\u001b[0m\u001b[0m\n\u001b[1;32m     12\u001b[0m \u001b[0;34m\u001b[0m\u001b[0m\n",
            "\u001b[0;31mTypeError\u001b[0m: slice indices must be integers or None or have an __index__ method"
          ]
        }
      ]
    },
    {
      "metadata": {
        "id": "k36Cpd_u62V6",
        "colab_type": "code",
        "colab": {}
      },
      "cell_type": "code",
      "source": [
        ""
      ],
      "execution_count": 0,
      "outputs": []
    },
    {
      "metadata": {
        "id": "IHXayGwfJRm-",
        "colab_type": "text"
      },
      "cell_type": "markdown",
      "source": [
        "## Alignement des séquences associées aux gènes sauvages/mutés"
      ]
    },
    {
      "metadata": {
        "id": "Tfj0bgKE0deU",
        "colab_type": "text"
      },
      "cell_type": "markdown",
      "source": [
        "### un alignement par paire global des séquences d’ARNm"
      ]
    },
    {
      "metadata": {
        "id": "jRIxcNmg0e3N",
        "colab_type": "text"
      },
      "cell_type": "markdown",
      "source": [
        "### donner les positions des variations sauvage/muté"
      ]
    },
    {
      "metadata": {
        "id": "pfB_Rb0a0zUz",
        "colab_type": "code",
        "outputId": "11851661-5f54-410b-b55b-8280684f5ee2",
        "colab": {
          "base_uri": "https://localhost:8080/",
          "height": 34
        }
      },
      "cell_type": "code",
      "source": [
        "myseq = myseqs[0]\n",
        "myseq"
      ],
      "execution_count": 0,
      "outputs": [
        {
          "output_type": "execute_result",
          "data": {
            "text/plain": [
              "Seq('CACAGATACCGTCCATCAACGTATCACTGGGCTCTCTTTCTCCGTGCCGTTCCT...ATT', SingleLetterAlphabet())"
            ]
          },
          "metadata": {
            "tags": []
          },
          "execution_count": 61
        }
      ]
    },
    {
      "metadata": {
        "id": "D6cPw4Xe00aL",
        "colab_type": "text"
      },
      "cell_type": "markdown",
      "source": [
        "### taux de GC / traduction pour obtenir les séquences protéiques"
      ]
    },
    {
      "metadata": {
        "id": "Yd4LEbQz34zf",
        "colab_type": "text"
      },
      "cell_type": "markdown",
      "source": [
        "récupation séquence (à modifier)\n",
        "\n"
      ]
    },
    {
      "metadata": {
        "id": "3adGZ_He4uat",
        "colab_type": "code",
        "colab": {}
      },
      "cell_type": "code",
      "source": [
        "from Bio.Seq import Seq\n",
        "from Bio.Alphabet import IUPAC\n",
        "# replace this with Entrez\n",
        "coding_dna = Seq(\"ATGGCCATTGTAATGGGCCGCTGAAAGGGTGCCCGATAG\", IUPAC.unambiguous_dna)"
      ],
      "execution_count": 0,
      "outputs": []
    },
    {
      "metadata": {
        "id": "Tj71epn-0ib2",
        "colab_type": "code",
        "outputId": "f0092f12-1f2e-4f01-d613-fec68d1844c6",
        "colab": {
          "base_uri": "https://localhost:8080/",
          "height": 34
        }
      },
      "cell_type": "code",
      "source": [
        "from Bio.SeqUtils import GC\n",
        "GC(myseq)"
      ],
      "execution_count": 0,
      "outputs": [
        {
          "output_type": "execute_result",
          "data": {
            "text/plain": [
              "43.37823834196891"
            ]
          },
          "metadata": {
            "tags": []
          },
          "execution_count": 63
        }
      ]
    },
    {
      "metadata": {
        "id": "24hGHJfn4lvR",
        "colab_type": "code",
        "outputId": "7195e6cb-fb23-451b-9875-5fb5c1823e52",
        "colab": {
          "base_uri": "https://localhost:8080/",
          "height": 88
        }
      },
      "cell_type": "code",
      "source": [
        "coding_dna.translate()"
      ],
      "execution_count": 0,
      "outputs": [
        {
          "output_type": "stream",
          "text": [
            "/usr/local/lib/python3.6/dist-packages/Bio/Seq.py:2609: BiopythonWarning: Partial codon, len(sequence) not a multiple of three. Explicitly trim the sequence or add trailing N before translation. This may become an error in future.\n",
            "  BiopythonWarning)\n"
          ],
          "name": "stderr"
        },
        {
          "output_type": "execute_result",
          "data": {
            "text/plain": [
              "Seq('HRYRPSTYHWALFLRAVPPTCSNNDVPRGGIEG*SVVFYFDYT*VYVCVSE*RR...NSN', HasStopCodon(ExtendedIUPACProtein(), '*'))"
            ]
          },
          "metadata": {
            "tags": []
          },
          "execution_count": 64
        }
      ]
    },
    {
      "metadata": {
        "id": "X1huvEa5Dv4W",
        "colab_type": "text"
      },
      "cell_type": "markdown",
      "source": [
        "# Base de données"
      ]
    },
    {
      "metadata": {
        "id": "sL25Ese7X1Qi",
        "colab_type": "code",
        "colab": {}
      },
      "cell_type": "code",
      "source": [
        ""
      ],
      "execution_count": 0,
      "outputs": []
    },
    {
      "metadata": {
        "id": "CIXoEEVLEWO0",
        "colab_type": "text"
      },
      "cell_type": "markdown",
      "source": [
        "## Reflection sur le type de base de données"
      ]
    },
    {
      "metadata": {
        "id": "6eRl6EBaEaNG",
        "colab_type": "text"
      },
      "cell_type": "markdown",
      "source": [
        "On a eu le choix d’un des SGBD vu ce semestre : chado/postgresql (module phenotype), relationnel seul (oracle, postgresqlou mysql), neo4j, couchdb, triplestore jena/rdf. \n",
        "\n",
        "On a choisi d'eviter les base de données NoSQL car nous avons plus d'experience avec ceux là. \n",
        "\n",
        "Notre choix s'est ainsi  porté sur la base de données Chado. Celle-ci est conçue spécialement pour gérer les représentations complexes de données biologiques."
      ]
    },
    {
      "metadata": {
        "id": "K41fxSetDz9m",
        "colab_type": "text"
      },
      "cell_type": "markdown",
      "source": [
        "## Modelisation de la base de données"
      ]
    },
    {
      "metadata": {
        "id": "MlL_6PJtHjNB",
        "colab_type": "text"
      },
      "cell_type": "markdown",
      "source": [
        "## Implantation de la base de données et peuplement"
      ]
    },
    {
      "metadata": {
        "id": "mzBJmNDvzCCq",
        "colab_type": "code",
        "outputId": "da53c60f-56d9-41e3-b6b0-081c1a76e42d",
        "colab": {
          "base_uri": "https://localhost:8080/",
          "height": 332
        }
      },
      "cell_type": "code",
      "source": [
        "from Bio import SeqIO\n",
        "import pandas as pd"
      ],
      "execution_count": 0,
      "outputs": [
        {
          "output_type": "error",
          "ename": "ModuleNotFoundError",
          "evalue": "ignored",
          "traceback": [
            "\u001b[0;31m---------------------------------------------------------------------------\u001b[0m",
            "\u001b[0;31mModuleNotFoundError\u001b[0m                       Traceback (most recent call last)",
            "\u001b[0;32m<ipython-input-2-d85431e1a1f8>\u001b[0m in \u001b[0;36m<module>\u001b[0;34m()\u001b[0m\n\u001b[0;32m----> 1\u001b[0;31m \u001b[0;32mfrom\u001b[0m \u001b[0mBio\u001b[0m \u001b[0;32mimport\u001b[0m \u001b[0mSeqIO\u001b[0m\u001b[0;34m\u001b[0m\u001b[0;34m\u001b[0m\u001b[0m\n\u001b[0m\u001b[1;32m      2\u001b[0m \u001b[0;32mimport\u001b[0m \u001b[0mpandas\u001b[0m \u001b[0;32mas\u001b[0m \u001b[0mpd\u001b[0m\u001b[0;34m\u001b[0m\u001b[0;34m\u001b[0m\u001b[0m\n",
            "\u001b[0;31mModuleNotFoundError\u001b[0m: No module named 'Bio'",
            "",
            "\u001b[0;31m---------------------------------------------------------------------------\u001b[0;32m\nNOTE: If your import is failing due to a missing package, you can\nmanually install dependencies using either !pip or !apt.\n\nTo view examples of installing some common dependencies, click the\n\"Open Examples\" button below.\n\u001b[0;31m---------------------------------------------------------------------------\u001b[0m\n"
          ]
        }
      ]
    },
    {
      "metadata": {
        "id": "kG1ZVskc1xo1",
        "colab_type": "code",
        "outputId": "c93fc539-b9c4-4ee4-c2d7-cd2b8af26786",
        "colab": {
          "base_uri": "https://localhost:8080/",
          "height": 188
        }
      },
      "cell_type": "code",
      "source": [
        "#from google.colab import files\n",
        "#uploaded = files.upload()\n",
        "df = pd.read_csv(\"Data_Projet_Entete.csv\",sep=\";\")\n",
        "df.head()"
      ],
      "execution_count": 0,
      "outputs": [
        {
          "output_type": "error",
          "ename": "NameError",
          "evalue": "ignored",
          "traceback": [
            "\u001b[0;31m---------------------------------------------------------------------------\u001b[0m",
            "\u001b[0;31mNameError\u001b[0m                                 Traceback (most recent call last)",
            "\u001b[0;32m<ipython-input-1-e55fc7ee6db2>\u001b[0m in \u001b[0;36m<module>\u001b[0;34m()\u001b[0m\n\u001b[0;32m----> 1\u001b[0;31m \u001b[0mdf\u001b[0m \u001b[0;34m=\u001b[0m \u001b[0mpd\u001b[0m\u001b[0;34m.\u001b[0m\u001b[0mread_csv\u001b[0m\u001b[0;34m(\u001b[0m\u001b[0;34m\"Data_Projet_Entete.csv\"\u001b[0m\u001b[0;34m,\u001b[0m\u001b[0msep\u001b[0m\u001b[0;34m=\u001b[0m\u001b[0;34m\";\"\u001b[0m\u001b[0;34m)\u001b[0m\u001b[0;34m\u001b[0m\u001b[0;34m\u001b[0m\u001b[0m\n\u001b[0m\u001b[1;32m      2\u001b[0m \u001b[0mdf\u001b[0m\u001b[0;34m.\u001b[0m\u001b[0mhead\u001b[0m\u001b[0;34m(\u001b[0m\u001b[0;34m)\u001b[0m\u001b[0;34m\u001b[0m\u001b[0;34m\u001b[0m\u001b[0m\n",
            "\u001b[0;31mNameError\u001b[0m: name 'pd' is not defined"
          ]
        }
      ]
    },
    {
      "metadata": {
        "id": "pU8CxuMK2TEe",
        "colab_type": "code",
        "outputId": "21b9d050-c84b-4df7-e8ed-88d8987f0f18",
        "colab": {
          "base_uri": "https://localhost:8080/",
          "height": 362
        }
      },
      "cell_type": "code",
      "source": [
        "cov = df.cov()\n",
        "cov"
      ],
      "execution_count": 0,
      "outputs": [
        {
          "output_type": "execute_result",
          "data": {
            "text/html": [
              "<div>\n",
              "<style scoped>\n",
              "    .dataframe tbody tr th:only-of-type {\n",
              "        vertical-align: middle;\n",
              "    }\n",
              "\n",
              "    .dataframe tbody tr th {\n",
              "        vertical-align: top;\n",
              "    }\n",
              "\n",
              "    .dataframe thead th {\n",
              "        text-align: right;\n",
              "    }\n",
              "</style>\n",
              "<table border=\"1\" class=\"dataframe\">\n",
              "  <thead>\n",
              "    <tr style=\"text-align: right;\">\n",
              "      <th></th>\n",
              "      <th>PR length</th>\n",
              "      <th>Tortuosity</th>\n",
              "      <th>RootArea</th>\n",
              "      <th>LR length</th>\n",
              "      <th>Grouping</th>\n",
              "      <th>Plants/group</th>\n",
              "      <th>distanceFromHypocotyl std (cm)</th>\n",
              "      <th>ShootArea</th>\n",
              "      <th>Chlorophyll (a.u)</th>\n",
              "    </tr>\n",
              "  </thead>\n",
              "  <tbody>\n",
              "    <tr>\n",
              "      <th>PR length</th>\n",
              "      <td>10.748196</td>\n",
              "      <td>0.028717</td>\n",
              "      <td>0.360917</td>\n",
              "      <td>14.306058</td>\n",
              "      <td>-5.536155</td>\n",
              "      <td>5.666499</td>\n",
              "      <td>2.713649</td>\n",
              "      <td>0.177008</td>\n",
              "      <td>3.564540</td>\n",
              "    </tr>\n",
              "    <tr>\n",
              "      <th>Tortuosity</th>\n",
              "      <td>0.028717</td>\n",
              "      <td>0.005974</td>\n",
              "      <td>0.001301</td>\n",
              "      <td>0.050465</td>\n",
              "      <td>-0.052913</td>\n",
              "      <td>0.022540</td>\n",
              "      <td>0.010562</td>\n",
              "      <td>0.000559</td>\n",
              "      <td>0.012890</td>\n",
              "    </tr>\n",
              "    <tr>\n",
              "      <th>RootArea</th>\n",
              "      <td>0.360917</td>\n",
              "      <td>0.001301</td>\n",
              "      <td>0.021034</td>\n",
              "      <td>0.777904</td>\n",
              "      <td>-0.281867</td>\n",
              "      <td>0.333221</td>\n",
              "      <td>0.134795</td>\n",
              "      <td>0.008780</td>\n",
              "      <td>0.173087</td>\n",
              "    </tr>\n",
              "    <tr>\n",
              "      <th>LR length</th>\n",
              "      <td>14.306058</td>\n",
              "      <td>0.050465</td>\n",
              "      <td>0.777904</td>\n",
              "      <td>34.435065</td>\n",
              "      <td>-9.316980</td>\n",
              "      <td>11.438061</td>\n",
              "      <td>5.365691</td>\n",
              "      <td>0.336841</td>\n",
              "      <td>6.175700</td>\n",
              "    </tr>\n",
              "    <tr>\n",
              "      <th>Grouping</th>\n",
              "      <td>-5.536155</td>\n",
              "      <td>-0.052913</td>\n",
              "      <td>-0.281867</td>\n",
              "      <td>-9.316980</td>\n",
              "      <td>17.675330</td>\n",
              "      <td>-6.068031</td>\n",
              "      <td>-1.994934</td>\n",
              "      <td>-0.133922</td>\n",
              "      <td>-2.935009</td>\n",
              "    </tr>\n",
              "    <tr>\n",
              "      <th>Plants/group</th>\n",
              "      <td>5.666499</td>\n",
              "      <td>0.022540</td>\n",
              "      <td>0.333221</td>\n",
              "      <td>11.438061</td>\n",
              "      <td>-6.068031</td>\n",
              "      <td>10.899694</td>\n",
              "      <td>2.463164</td>\n",
              "      <td>0.163863</td>\n",
              "      <td>3.474913</td>\n",
              "    </tr>\n",
              "    <tr>\n",
              "      <th>distanceFromHypocotyl std (cm)</th>\n",
              "      <td>2.713649</td>\n",
              "      <td>0.010562</td>\n",
              "      <td>0.134795</td>\n",
              "      <td>5.365691</td>\n",
              "      <td>-1.994934</td>\n",
              "      <td>2.463164</td>\n",
              "      <td>1.161365</td>\n",
              "      <td>0.058837</td>\n",
              "      <td>1.158878</td>\n",
              "    </tr>\n",
              "    <tr>\n",
              "      <th>ShootArea</th>\n",
              "      <td>0.177008</td>\n",
              "      <td>0.000559</td>\n",
              "      <td>0.008780</td>\n",
              "      <td>0.336841</td>\n",
              "      <td>-0.133922</td>\n",
              "      <td>0.163863</td>\n",
              "      <td>0.058837</td>\n",
              "      <td>0.009249</td>\n",
              "      <td>0.179739</td>\n",
              "    </tr>\n",
              "    <tr>\n",
              "      <th>Chlorophyll (a.u)</th>\n",
              "      <td>3.564540</td>\n",
              "      <td>0.012890</td>\n",
              "      <td>0.173087</td>\n",
              "      <td>6.175700</td>\n",
              "      <td>-2.935009</td>\n",
              "      <td>3.474913</td>\n",
              "      <td>1.158878</td>\n",
              "      <td>0.179739</td>\n",
              "      <td>3.828083</td>\n",
              "    </tr>\n",
              "  </tbody>\n",
              "</table>\n",
              "</div>"
            ],
            "text/plain": [
              "                                PR length  Tortuosity  RootArea  LR length  \\\n",
              "PR length                       10.748196    0.028717  0.360917  14.306058   \n",
              "Tortuosity                       0.028717    0.005974  0.001301   0.050465   \n",
              "RootArea                         0.360917    0.001301  0.021034   0.777904   \n",
              "LR length                       14.306058    0.050465  0.777904  34.435065   \n",
              "Grouping                        -5.536155   -0.052913 -0.281867  -9.316980   \n",
              "Plants/group                     5.666499    0.022540  0.333221  11.438061   \n",
              "distanceFromHypocotyl std (cm)   2.713649    0.010562  0.134795   5.365691   \n",
              "ShootArea                        0.177008    0.000559  0.008780   0.336841   \n",
              "Chlorophyll (a.u)                3.564540    0.012890  0.173087   6.175700   \n",
              "\n",
              "                                 Grouping  Plants/group  \\\n",
              "PR length                       -5.536155      5.666499   \n",
              "Tortuosity                      -0.052913      0.022540   \n",
              "RootArea                        -0.281867      0.333221   \n",
              "LR length                       -9.316980     11.438061   \n",
              "Grouping                        17.675330     -6.068031   \n",
              "Plants/group                    -6.068031     10.899694   \n",
              "distanceFromHypocotyl std (cm)  -1.994934      2.463164   \n",
              "ShootArea                       -0.133922      0.163863   \n",
              "Chlorophyll (a.u)               -2.935009      3.474913   \n",
              "\n",
              "                                distanceFromHypocotyl std (cm)  ShootArea  \\\n",
              "PR length                                             2.713649   0.177008   \n",
              "Tortuosity                                            0.010562   0.000559   \n",
              "RootArea                                              0.134795   0.008780   \n",
              "LR length                                             5.365691   0.336841   \n",
              "Grouping                                             -1.994934  -0.133922   \n",
              "Plants/group                                          2.463164   0.163863   \n",
              "distanceFromHypocotyl std (cm)                        1.161365   0.058837   \n",
              "ShootArea                                             0.058837   0.009249   \n",
              "Chlorophyll (a.u)                                     1.158878   0.179739   \n",
              "\n",
              "                                Chlorophyll (a.u)  \n",
              "PR length                                3.564540  \n",
              "Tortuosity                               0.012890  \n",
              "RootArea                                 0.173087  \n",
              "LR length                                6.175700  \n",
              "Grouping                                -2.935009  \n",
              "Plants/group                             3.474913  \n",
              "distanceFromHypocotyl std (cm)           1.158878  \n",
              "ShootArea                                0.179739  \n",
              "Chlorophyll (a.u)                        3.828083  "
            ]
          },
          "metadata": {
            "tags": []
          },
          "execution_count": 11
        }
      ]
    }
  ]
}